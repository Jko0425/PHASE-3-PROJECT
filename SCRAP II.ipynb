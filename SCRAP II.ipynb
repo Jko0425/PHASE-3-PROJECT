{
 "cells": [
  {
   "cell_type": "code",
   "execution_count": 1,
   "id": "e9972879",
   "metadata": {},
   "outputs": [],
   "source": [
    "import pandas as pd\n",
    "import numpy as np"
   ]
  },
  {
   "cell_type": "code",
   "execution_count": 2,
   "id": "f5d740c5",
   "metadata": {},
   "outputs": [],
   "source": [
    "test_df = pd.read_csv('test_set_features.csv', index_col='respondent_id')\n",
    "training_df = pd.read_csv('training_set_features.csv', index_col='respondent_id')\n",
    "training_labels = pd.read_csv('training_set_labels.csv', index_col='respondent_id')"
   ]
  },
  {
   "cell_type": "code",
   "execution_count": 3,
   "id": "f8130898",
   "metadata": {},
   "outputs": [
    {
     "data": {
      "text/plain": [
       "h1n1_vaccine                       0\n",
       "seasonal_vaccine                   0\n",
       "h1n1_concern                      92\n",
       "h1n1_knowledge                   116\n",
       "behavioral_antiviral_meds         71\n",
       "behavioral_avoidance             208\n",
       "behavioral_face_mask              19\n",
       "behavioral_wash_hands             42\n",
       "behavioral_large_gatherings       87\n",
       "behavioral_outside_home           82\n",
       "behavioral_touch_face            128\n",
       "doctor_recc_h1n1                2160\n",
       "doctor_recc_seasonal            2160\n",
       "chronic_med_condition            971\n",
       "child_under_6_months             820\n",
       "health_worker                    804\n",
       "health_insurance               12274\n",
       "opinion_h1n1_vacc_effective      391\n",
       "opinion_h1n1_risk                388\n",
       "opinion_h1n1_sick_from_vacc      395\n",
       "opinion_seas_vacc_effective      462\n",
       "opinion_seas_risk                514\n",
       "opinion_seas_sick_from_vacc      537\n",
       "age_group                          0\n",
       "education                       1407\n",
       "race                               0\n",
       "sex                                0\n",
       "income_poverty                  4423\n",
       "marital_status                  1408\n",
       "rent_or_own                     2042\n",
       "employment_status               1463\n",
       "hhs_geo_region                     0\n",
       "census_msa                         0\n",
       "household_adults                 249\n",
       "household_children               249\n",
       "employment_industry            13330\n",
       "employment_occupation          13470\n",
       "dtype: int64"
      ]
     },
     "execution_count": 3,
     "metadata": {},
     "output_type": "execute_result"
    }
   ],
   "source": [
    "df = pd.concat([training_labels, training_df], axis=1)\n",
    "df.isna().sum()"
   ]
  },
  {
   "cell_type": "code",
   "execution_count": 4,
   "id": "fb2f9a86",
   "metadata": {},
   "outputs": [
    {
     "data": {
      "text/plain": [
       "26707"
      ]
     },
     "execution_count": 4,
     "metadata": {},
     "output_type": "execute_result"
    }
   ],
   "source": [
    "len(df)"
   ]
  },
  {
   "cell_type": "code",
   "execution_count": 5,
   "id": "72c61f7d",
   "metadata": {},
   "outputs": [],
   "source": [
    "numeric_col = training_df.columns[training_df.dtypes != 'object'].values\n",
    "cat_col = training_df.columns[training_df.dtypes == 'object'].values\n",
    "\n",
    "df[cat_col] = df[cat_col].fillna('None')"
   ]
  },
  {
   "cell_type": "code",
   "execution_count": 6,
   "id": "6f5633b3",
   "metadata": {},
   "outputs": [
    {
     "data": {
      "text/plain": [
       "Employed              13560\n",
       "Not in Labor Force    10231\n",
       "None                   1463\n",
       "Unemployed             1453\n",
       "Name: employment_status, dtype: int64"
      ]
     },
     "execution_count": 6,
     "metadata": {},
     "output_type": "execute_result"
    }
   ],
   "source": [
    "df.employment_status.value_counts()"
   ]
  },
  {
   "cell_type": "code",
   "execution_count": 7,
   "id": "c2e56799",
   "metadata": {},
   "outputs": [
    {
     "data": {
      "text/plain": [
       "13147"
      ]
     },
     "execution_count": 7,
     "metadata": {},
     "output_type": "execute_result"
    }
   ],
   "source": [
    "not_in_labor = df.loc[df['employment_status'].str.contains('Not in Labor Force')]\n",
    "unemployed = df.loc[df['employment_status'].str.contains('Unemployed')]\n",
    "none = df.loc[df['employment_status'].str.contains('None')]\n",
    "\n",
    "no_job = pd.concat([not_in_labor, unemployed, none])\n",
    "len(no_job)"
   ]
  },
  {
   "cell_type": "code",
   "execution_count": 8,
   "id": "8cafd2d5",
   "metadata": {},
   "outputs": [],
   "source": [
    "mask = no_job.index\n",
    "df.loc[mask, 'employment_industry'] = 'Not working'\n",
    "df.loc[mask, 'employment_occupation'] = 'No Job Title'\n",
    "\n",
    "mask2 = no_job.loc[no_job['health_worker'].isna()].index\n",
    "df.loc[mask2, 'health_worker'] = 0"
   ]
  },
  {
   "cell_type": "code",
   "execution_count": 9,
   "id": "046e3344",
   "metadata": {},
   "outputs": [
    {
     "data": {
      "text/plain": [
       "Int64Index([ 2278,  6464, 11125, 14738, 22227, 25623,    64,   105,   175,\n",
       "              183,\n",
       "            ...\n",
       "            26274, 26298, 26327, 26389, 26401, 26510, 26526, 26549, 26608,\n",
       "            26672],\n",
       "           dtype='int64', name='respondent_id', length=796)"
      ]
     },
     "execution_count": 9,
     "metadata": {},
     "output_type": "execute_result"
    }
   ],
   "source": [
    "mask2"
   ]
  },
  {
   "cell_type": "code",
   "execution_count": 10,
   "id": "6eaf1fae",
   "metadata": {},
   "outputs": [
    {
     "data": {
      "text/plain": [
       "Int64Index([ 2278,  6464, 11125, 14738, 22227, 25623,    64,   105,   175,\n",
       "              183,\n",
       "            ...\n",
       "            26274, 26298, 26327, 26389, 26401, 26510, 26526, 26549, 26608,\n",
       "            26672],\n",
       "           dtype='int64', name='respondent_id', length=796)"
      ]
     },
     "execution_count": 10,
     "metadata": {},
     "output_type": "execute_result"
    }
   ],
   "source": [
    "no_job.loc[no_job['health_worker'].isna()].index"
   ]
  },
  {
   "cell_type": "code",
   "execution_count": 11,
   "id": "0e575340",
   "metadata": {},
   "outputs": [
    {
     "data": {
      "text/plain": [
       "0.0    23800\n",
       "1.0     2899\n",
       "Name: health_worker, dtype: int64"
      ]
     },
     "execution_count": 11,
     "metadata": {},
     "output_type": "execute_result"
    }
   ],
   "source": [
    "df.health_worker.value_counts()"
   ]
  },
  {
   "cell_type": "code",
   "execution_count": 12,
   "id": "83f1d67e",
   "metadata": {},
   "outputs": [
    {
     "data": {
      "text/plain": [
       "Not working    13147\n",
       "fcxhlnwr        2468\n",
       "wxleyezf        1804\n",
       "ldnlellj        1231\n",
       "pxcmvdjn        1037\n",
       "atmlpfrs         926\n",
       "arjwrbjb         871\n",
       "xicduogh         851\n",
       "mfikgejo         614\n",
       "vjjrobsf         527\n",
       "rucpziij         523\n",
       "xqicxuve         511\n",
       "saaquncn         338\n",
       "cfqqtusy         325\n",
       "nduyfdeo         286\n",
       "mcubkhph         275\n",
       "wlfvacwt         215\n",
       "dotnnunm         201\n",
       "None             183\n",
       "haxffmxo         148\n",
       "msuufmds         124\n",
       "phxvnwax          89\n",
       "qnlwzans          13\n",
       "Name: employment_industry, dtype: int64"
      ]
     },
     "execution_count": 12,
     "metadata": {},
     "output_type": "execute_result"
    }
   ],
   "source": [
    "df.employment_industry.value_counts()"
   ]
  },
  {
   "cell_type": "code",
   "execution_count": 13,
   "id": "e2a2c205",
   "metadata": {},
   "outputs": [
    {
     "data": {
      "text/plain": [
       "h1n1_vaccine                       0\n",
       "seasonal_vaccine                   0\n",
       "h1n1_concern                      92\n",
       "h1n1_knowledge                   116\n",
       "behavioral_antiviral_meds         71\n",
       "behavioral_avoidance             208\n",
       "behavioral_face_mask              19\n",
       "behavioral_wash_hands             42\n",
       "behavioral_large_gatherings       87\n",
       "behavioral_outside_home           82\n",
       "behavioral_touch_face            128\n",
       "doctor_recc_h1n1                2160\n",
       "doctor_recc_seasonal            2160\n",
       "chronic_med_condition            971\n",
       "child_under_6_months             820\n",
       "health_worker                      8\n",
       "health_insurance               12274\n",
       "opinion_h1n1_vacc_effective      391\n",
       "opinion_h1n1_risk                388\n",
       "opinion_h1n1_sick_from_vacc      395\n",
       "opinion_seas_vacc_effective      462\n",
       "opinion_seas_risk                514\n",
       "opinion_seas_sick_from_vacc      537\n",
       "age_group                          0\n",
       "education                          0\n",
       "race                               0\n",
       "sex                                0\n",
       "income_poverty                     0\n",
       "marital_status                     0\n",
       "rent_or_own                        0\n",
       "employment_status                  0\n",
       "hhs_geo_region                     0\n",
       "census_msa                         0\n",
       "household_adults                 249\n",
       "household_children               249\n",
       "employment_industry                0\n",
       "employment_occupation              0\n",
       "dtype: int64"
      ]
     },
     "execution_count": 13,
     "metadata": {},
     "output_type": "execute_result"
    }
   ],
   "source": [
    "df.isna().sum()"
   ]
  },
  {
   "cell_type": "code",
   "execution_count": 14,
   "id": "3476db52",
   "metadata": {},
   "outputs": [],
   "source": [
    "X = df.drop(['h1n1_vaccine', 'seasonal_vaccine'], axis=1)\n",
    "y_h1n1 = training_labels['h1n1_vaccine']\n",
    "y_seasonal = training_labels['seasonal_vaccine']"
   ]
  },
  {
   "cell_type": "code",
   "execution_count": 156,
   "id": "def61259",
   "metadata": {},
   "outputs": [],
   "source": [
    "X_h1n1 = df.drop(['h1n1_vaccine', 'seasonal_vaccine', 'behavioral_large_gatherings', 'behavioral_outside_home', 'opinion_seas_sick_from_vacc', 'sex', 'census_msa', 'household_children'], axis=1)\n",
    "X_seasonal = df.drop(['h1n1_vaccine', 'seasonal_vaccine', 'behavioral_antiviral_meds', 'child_under_6_months', 'opinion_h1n1_sick_from_vacc', 'census_msa'], axis=1)"
   ]
  },
  {
   "cell_type": "code",
   "execution_count": 168,
   "id": "e8e4bd5a",
   "metadata": {},
   "outputs": [],
   "source": [
    "num_col_h1n1 = X_h1n1.columns[X_h1n1.dtypes != 'object'].values\n",
    "cat_col_h1n1 = X_h1n1.columns[X_h1n1.dtypes == 'object'].values"
   ]
  },
  {
   "cell_type": "code",
   "execution_count": 180,
   "id": "b4792724",
   "metadata": {},
   "outputs": [],
   "source": [
    "from sklearn.model_selection import train_test_split\n",
    "from sklearn.impute import SimpleImputer\n",
    "from sklearn.preprocessing import StandardScaler\n",
    "from sklearn.preprocessing import OneHotEncoder\n",
    "from sklearn.linear_model import LogisticRegression\n",
    "from sklearn.model_selection import cross_val_score"
   ]
  },
  {
   "cell_type": "code",
   "execution_count": 198,
   "id": "1521c36e",
   "metadata": {},
   "outputs": [],
   "source": [
    "X_train_h1n1, X_test_h1n1, y_train_h1n1, y_test_h1n1 = train_test_split(X_h1n1, training_labels['h1n1_vaccine'], test_size=0.33, random_state=42, stratify=training_labels['h1n1_vaccine'])"
   ]
  },
  {
   "cell_type": "code",
   "execution_count": 199,
   "id": "95c1744e",
   "metadata": {},
   "outputs": [],
   "source": [
    "imputer.fit(X_train_h1n1[num_col_h1n1])\n",
    "\n",
    "X_train_h1n1_filled = pd.DataFrame(imputer.transform(X_train_h1n1[num_col_h1n1]),\n",
    "                                       index=X_train_h1n1[num_col_h1n1].index,\n",
    "                                       columns=X_train_h1n1[num_col_h1n1].columns)\n",
    "X_test_h1n1_filled = pd.DataFrame(imputer.transform(X_test_h1n1[num_col_h1n1]),\n",
    "                                      index=X_test_h1n1[num_col_h1n1].index,\n",
    "                                      columns=X_test_h1n1[num_col_h1n1].columns)"
   ]
  },
  {
   "cell_type": "code",
   "execution_count": 200,
   "id": "2119d44b",
   "metadata": {},
   "outputs": [],
   "source": [
    "std.fit(X_train_h1n1_filled)\n",
    "\n",
    "X_train_h1n1_scaled = pd.DataFrame(std.transform(X_train_h1n1_filled),\n",
    "                                       index=X_train_h1n1_filled.index,\n",
    "                                       columns=X_train_h1n1_filled.columns)\n",
    "X_test_h1n1_scaled = pd.DataFrame(std.transform(X_test_h1n1_filled),\n",
    "                                      index=X_test_h1n1_filled.index,\n",
    "                                      columns=X_test_h1n1_filled.columns)"
   ]
  },
  {
   "cell_type": "code",
   "execution_count": 201,
   "id": "ee3b87ea",
   "metadata": {},
   "outputs": [],
   "source": [
    "ohe.fit(X_train_h1n1[cat_col_h1n1])\n",
    "\n",
    "X_train_h1n1_ohe = pd.DataFrame(ohe.transform(X_train_h1n1[cat_col_h1n1]),\n",
    "                                index=X_train_h1n1[cat_col_h1n1].index,\n",
    "                                columns=np.hstack(ohe.categories_))\n",
    "X_test_h1n1_ohe = pd.DataFrame(ohe.transform(X_test_h1n1[cat_col_h1n1]),\n",
    "                                index=X_test_h1n1[cat_col_h1n1].index,\n",
    "                                columns=np.hstack(ohe.categories_))"
   ]
  },
  {
   "cell_type": "code",
   "execution_count": 202,
   "id": "b1507cbe",
   "metadata": {},
   "outputs": [],
   "source": [
    "X_train_h1n1_processed = pd.concat([X_train_h1n1_scaled, X_train_h1n1_ohe], axis=1)\n",
    "X_test_h1n1_processed = pd.concat([X_test_h1n1_scaled, X_test_h1n1_ohe], axis=1)"
   ]
  },
  {
   "cell_type": "code",
   "execution_count": 203,
   "id": "f7f47126",
   "metadata": {},
   "outputs": [
    {
     "data": {
      "text/plain": [
       "0.38402786064032296"
      ]
     },
     "execution_count": 203,
     "metadata": {},
     "output_type": "execute_result"
    }
   ],
   "source": [
    "log_loss_cv = cross_val_score(log_model, X_train_h1n1_processed, y_train_h1n1, scoring='neg_log_loss')\n",
    "\n",
    "log_loss_h1n1 = -(log_loss_cv.mean())\n",
    "log_loss_h1n1"
   ]
  },
  {
   "cell_type": "code",
   "execution_count": 204,
   "id": "8db63f05",
   "metadata": {},
   "outputs": [],
   "source": [
    "X_train_seasonal, X_test_seasonal, y_train_seasonal, y_test_seasonal = train_test_split(X_seasonal, training_labels['seasonal_vaccine'], test_size=0.33, random_state=42, stratify=training_labels['seasonal_vaccine'])"
   ]
  },
  {
   "cell_type": "code",
   "execution_count": 205,
   "id": "5d36b524",
   "metadata": {},
   "outputs": [],
   "source": [
    "num_col_seasonal = X_seasonal.columns[X_seasonal.dtypes != 'object'].values\n",
    "cat_col_seasonal = X_seasonal.columns[X_seasonal.dtypes == 'object'].values"
   ]
  },
  {
   "cell_type": "code",
   "execution_count": 206,
   "id": "e9ac6949",
   "metadata": {},
   "outputs": [
    {
     "data": {
      "text/plain": [
       "0.47763295920394455"
      ]
     },
     "execution_count": 206,
     "metadata": {},
     "output_type": "execute_result"
    }
   ],
   "source": [
    "imputer.fit(X_train_seasonal[num_col_seasonal])\n",
    "\n",
    "X_train_seasonal_filled = pd.DataFrame(imputer.transform(X_train_seasonal[num_col_seasonal]),\n",
    "                                       index=X_train_seasonal[num_col_seasonal].index,\n",
    "                                       columns=X_train_seasonal[num_col_seasonal].columns)\n",
    "X_test_seasonal_filled = pd.DataFrame(imputer.transform(X_test_seasonal[num_col_seasonal]),\n",
    "                                      index=X_test_seasonal[num_col_seasonal].index,\n",
    "                                      columns=X_test_seasonal[num_col_seasonal].columns)\n",
    "std.fit(X_train_seasonal_filled)\n",
    "\n",
    "X_train_seasonal_scaled = pd.DataFrame(std.transform(X_train_seasonal_filled),\n",
    "                                       index=X_train_seasonal_filled.index,\n",
    "                                       columns=X_train_seasonal_filled.columns)\n",
    "X_test_seasonal_scaled = pd.DataFrame(std.transform(X_test_seasonal_filled),\n",
    "                                      index=X_test_seasonal_filled.index,\n",
    "                                      columns=X_test_seasonal_filled.columns)\n",
    "ohe.fit(X_train_seasonal[cat_col_seasonal])\n",
    "\n",
    "X_train_seasonal_ohe = pd.DataFrame(ohe.transform(X_train_seasonal[cat_col_seasonal]),\n",
    "                                index=X_train_seasonal[cat_col_seasonal].index,\n",
    "                                columns=np.hstack(ohe.categories_))\n",
    "X_test_seasonal_ohe = pd.DataFrame(ohe.transform(X_test_seasonal[cat_col_seasonal]),\n",
    "                                index=X_test_seasonal[cat_col_seasonal].index,\n",
    "                                columns=np.hstack(ohe.categories_))\n",
    "\n",
    "X_train_seasonal_processed = pd.concat([X_train_seasonal_scaled, X_train_seasonal_ohe], axis=1)\n",
    "X_test_seasonal_processed = pd.concat([X_test_seasonal_scaled, X_test_seasonal_ohe], axis=1)\n",
    "\n",
    "log_loss_cv = cross_val_score(log_model, X_train_seasonal_processed, y_train_seasonal, scoring='neg_log_loss')\n",
    "\n",
    "log_loss_seasonal = -(log_loss_cv.mean())\n",
    "log_loss_seasonal"
   ]
  },
  {
   "cell_type": "markdown",
   "id": "1cdaba65",
   "metadata": {},
   "source": [
    "___\n",
    "# Stratified"
   ]
  },
  {
   "cell_type": "code",
   "execution_count": 207,
   "id": "02902744",
   "metadata": {},
   "outputs": [],
   "source": [
    "from imblearn.over_sampling import SMOTE\n",
    "from sklearn.metrics import make_scorer\n",
    "from sklearn.model_selection import StratifiedKFold\n",
    "from sklearn.base import clone\n",
    "from sklearn.metrics import log_loss\n",
    "\n",
    "neg_log_loss = make_scorer(log_loss, greater_is_better=False, needs_proba=True)\n",
    "\n",
    "def custom_cross_val_score(estimator, X, y):\n",
    "    kfold_train_scores = np.ndarray(5)\n",
    "    kfold_val_scores = np.ndarray(5)\n",
    "    \n",
    "    kfold = StratifiedKFold(n_splits=5)\n",
    "    for fold, (train_index, val_index) in enumerate(kfold.split(X, y)):\n",
    "        X_t, X_val = X.iloc[train_index], X.iloc[val_index]\n",
    "        y_t, y_val = y.iloc[train_index], y.iloc[val_index]\n",
    "        \n",
    "        scaler = StandardScaler()\n",
    "        X_t_scaled = scaler.fit_transform(X_t)\n",
    "        X_val_scaled = scaler.transform(X_val)\n",
    "        \n",
    "        sm = SMOTE(random_state=42, sampling_strategy=0.3, k_neighbors=3)\n",
    "        X_t_oversampled, y_t_oversampled = sm.fit_resample(X_t_scaled, y_t)\n",
    "        \n",
    "        temp_model = clone(estimator)\n",
    "        temp_model.fit(X_t_oversampled, y_t_oversampled)\n",
    "        \n",
    "        neg_log_loss_score_train = neg_log_loss(temp_model, X_t_oversampled, y_t_oversampled)\n",
    "        neg_log_loss_score_val = neg_log_loss(temp_model, X_val_scaled, y_val)\n",
    "        kfold_train_scores[fold] = neg_log_loss_score_train\n",
    "        kfold_val_scores[fold] = neg_log_loss_score_val\n",
    "    \n",
    "    return kfold_train_scores, kfold_val_scores"
   ]
  },
  {
   "cell_type": "markdown",
   "id": "3b95c0c6",
   "metadata": {},
   "source": [
    "___"
   ]
  },
  {
   "cell_type": "code",
   "execution_count": 109,
   "id": "b1e01de0",
   "metadata": {},
   "outputs": [],
   "source": [
    "X_train, X_test, y_train, y_test = train_test_split(X, training_labels, test_size=0.33, random_state=42, stratify=training_labels)"
   ]
  },
  {
   "cell_type": "code",
   "execution_count": 110,
   "id": "fd96e079",
   "metadata": {},
   "outputs": [],
   "source": [
    "imputer = SimpleImputer(strategy='median')\n",
    "\n",
    "X_train_num = X_train[numeric_col]\n",
    "X_test_num = X_test[numeric_col]\n",
    "\n",
    "imputer.fit(X_train_num)\n",
    "\n",
    "X_train_filled = pd.DataFrame(imputer.transform(X_train_num),\n",
    "                                       index=X_train_num.index,\n",
    "                                       columns=X_train_num.columns)\n",
    "X_test_filled = pd.DataFrame(imputer.transform(X_test_num),\n",
    "                                      index=X_test_num.index,\n",
    "                                      columns=X_test_num.columns)"
   ]
  },
  {
   "cell_type": "code",
   "execution_count": 111,
   "id": "25d7bd08",
   "metadata": {},
   "outputs": [],
   "source": [
    "std = StandardScaler()\n",
    "std.fit(X_train_filled)\n",
    "\n",
    "X_train_scaled = pd.DataFrame(std.transform(X_train_filled),\n",
    "                                       index=X_train_filled.index,\n",
    "                                       columns=X_train_filled.columns)\n",
    "X_test_scaled = pd.DataFrame(std.transform(X_test_filled),\n",
    "                                      index=X_test_filled.index,\n",
    "                                      columns=X_test_filled.columns)"
   ]
  },
  {
   "cell_type": "code",
   "execution_count": 179,
   "id": "71dfae2c",
   "metadata": {},
   "outputs": [],
   "source": [
    "ohe = OneHotEncoder(handle_unknown='ignore', sparse=False)\n",
    "ohe.fit(X_train[cat_col])\n",
    "\n",
    "X_train_ohe = pd.DataFrame(ohe.transform(X_train[cat_col]),\n",
    "                                index=X_train[cat_col].index,\n",
    "                                columns=np.hstack(ohe.categories_))\n",
    "X_test_ohe = pd.DataFrame(ohe.transform(X_test[cat_col]),\n",
    "                                index=X_test[cat_col].index,\n",
    "                                columns=np.hstack(ohe.categories_))"
   ]
  },
  {
   "cell_type": "code",
   "execution_count": 113,
   "id": "4678145f",
   "metadata": {},
   "outputs": [],
   "source": [
    "X_train_processed = pd.concat([X_train_scaled, X_train_ohe], axis=1)\n",
    "X_test_processed = pd.concat([X_test_scaled, X_test_ohe], axis=1)"
   ]
  },
  {
   "cell_type": "code",
   "execution_count": 114,
   "id": "7454c56b",
   "metadata": {},
   "outputs": [
    {
     "data": {
      "text/plain": [
       "0.38462186059984715"
      ]
     },
     "execution_count": 114,
     "metadata": {},
     "output_type": "execute_result"
    }
   ],
   "source": [
    "from sklearn.linear_model import LogisticRegression\n",
    "from sklearn.model_selection import cross_val_score\n",
    "\n",
    "log_model = LogisticRegression(solver='liblinear', fit_intercept=False, C=1e12, random_state=42, max_iter=150)\n",
    "log_loss_cv = cross_val_score(log_model, X_train_processed, y_train['h1n1_vaccine'], scoring='neg_log_loss')\n",
    "\n",
    "log_loss_h1n1 = -(log_loss_cv.mean())\n",
    "log_loss_h1n1"
   ]
  },
  {
   "cell_type": "code",
   "execution_count": 115,
   "id": "9037cd07",
   "metadata": {},
   "outputs": [
    {
     "data": {
      "text/plain": [
       "0.48150400056497344"
      ]
     },
     "execution_count": 115,
     "metadata": {},
     "output_type": "execute_result"
    }
   ],
   "source": [
    "log_loss_cv = cross_val_score(log_model, X_train_processed, y_train['seasonal_vaccine'], scoring='neg_log_loss')\n",
    "\n",
    "log_loss_seasonal = -(log_loss_cv.mean())\n",
    "log_loss_seasonal"
   ]
  },
  {
   "cell_type": "markdown",
   "id": "f5b0c65e",
   "metadata": {},
   "source": [
    "___\n",
    "# StratifiedKFold & SMOTE"
   ]
  },
  {
   "cell_type": "code",
   "execution_count": 331,
   "id": "a7af917d",
   "metadata": {
    "scrolled": false
   },
   "outputs": [
    {
     "name": "stderr",
     "output_type": "stream",
     "text": [
      "C:\\Users\\joshu\\anaconda3\\lib\\site-packages\\sklearn\\linear_model\\_logistic.py:814: ConvergenceWarning: lbfgs failed to converge (status=1):\n",
      "STOP: TOTAL NO. of ITERATIONS REACHED LIMIT.\n",
      "\n",
      "Increase the number of iterations (max_iter) or scale the data as shown in:\n",
      "    https://scikit-learn.org/stable/modules/preprocessing.html\n",
      "Please also refer to the documentation for alternative solver options:\n",
      "    https://scikit-learn.org/stable/modules/linear_model.html#logistic-regression\n",
      "  n_iter_i = _check_optimize_result(\n"
     ]
    },
    {
     "name": "stdout",
     "output_type": "stream",
     "text": [
      "[-4.54032691e-001  9.88131292e-323  1.03753786e-322  1.08694442e-322\n",
      "  1.13635099e-322] [-0.47731735 -0.4596319  -0.461035   -0.45829006 -0.45765438]\n"
     ]
    },
    {
     "name": "stderr",
     "output_type": "stream",
     "text": [
      "C:\\Users\\joshu\\anaconda3\\lib\\site-packages\\sklearn\\linear_model\\_logistic.py:814: ConvergenceWarning: lbfgs failed to converge (status=1):\n",
      "STOP: TOTAL NO. of ITERATIONS REACHED LIMIT.\n",
      "\n",
      "Increase the number of iterations (max_iter) or scale the data as shown in:\n",
      "    https://scikit-learn.org/stable/modules/preprocessing.html\n",
      "Please also refer to the documentation for alternative solver options:\n",
      "    https://scikit-learn.org/stable/modules/linear_model.html#logistic-regression\n",
      "  n_iter_i = _check_optimize_result(\n"
     ]
    },
    {
     "name": "stdout",
     "output_type": "stream",
     "text": [
      "[-4.54032691e-001 -4.59637835e-001  1.03753786e-322  1.08694442e-322\n",
      "  1.13635099e-322] [-0.47731735 -0.46168069 -0.461035   -0.45829006 -0.45765438]\n"
     ]
    },
    {
     "name": "stderr",
     "output_type": "stream",
     "text": [
      "C:\\Users\\joshu\\anaconda3\\lib\\site-packages\\sklearn\\linear_model\\_logistic.py:814: ConvergenceWarning: lbfgs failed to converge (status=1):\n",
      "STOP: TOTAL NO. of ITERATIONS REACHED LIMIT.\n",
      "\n",
      "Increase the number of iterations (max_iter) or scale the data as shown in:\n",
      "    https://scikit-learn.org/stable/modules/preprocessing.html\n",
      "Please also refer to the documentation for alternative solver options:\n",
      "    https://scikit-learn.org/stable/modules/linear_model.html#logistic-regression\n",
      "  n_iter_i = _check_optimize_result(\n"
     ]
    },
    {
     "name": "stdout",
     "output_type": "stream",
     "text": [
      "[-4.54032691e-001 -4.59637835e-001 -4.61320216e-001  1.08694442e-322\n",
      "  1.13635099e-322] [-0.47731735 -0.46168069 -0.44666721 -0.45829006 -0.45765438]\n"
     ]
    },
    {
     "name": "stderr",
     "output_type": "stream",
     "text": [
      "C:\\Users\\joshu\\anaconda3\\lib\\site-packages\\sklearn\\linear_model\\_logistic.py:814: ConvergenceWarning: lbfgs failed to converge (status=1):\n",
      "STOP: TOTAL NO. of ITERATIONS REACHED LIMIT.\n",
      "\n",
      "Increase the number of iterations (max_iter) or scale the data as shown in:\n",
      "    https://scikit-learn.org/stable/modules/preprocessing.html\n",
      "Please also refer to the documentation for alternative solver options:\n",
      "    https://scikit-learn.org/stable/modules/linear_model.html#logistic-regression\n",
      "  n_iter_i = _check_optimize_result(\n"
     ]
    },
    {
     "name": "stdout",
     "output_type": "stream",
     "text": [
      "[-4.54032691e-001 -4.59637835e-001 -4.61320216e-001 -4.58248331e-001\n",
      "  1.13635099e-322] [-0.47731735 -0.46168069 -0.44666721 -0.46823067 -0.45765438]\n",
      "[-0.45403269 -0.45963784 -0.46132022 -0.45824833 -0.4576695 ] [-0.47731735 -0.46168069 -0.44666721 -0.46823067 -0.46101338]\n"
     ]
    },
    {
     "name": "stderr",
     "output_type": "stream",
     "text": [
      "C:\\Users\\joshu\\anaconda3\\lib\\site-packages\\sklearn\\linear_model\\_logistic.py:814: ConvergenceWarning: lbfgs failed to converge (status=1):\n",
      "STOP: TOTAL NO. of ITERATIONS REACHED LIMIT.\n",
      "\n",
      "Increase the number of iterations (max_iter) or scale the data as shown in:\n",
      "    https://scikit-learn.org/stable/modules/preprocessing.html\n",
      "Please also refer to the documentation for alternative solver options:\n",
      "    https://scikit-learn.org/stable/modules/linear_model.html#logistic-regression\n",
      "  n_iter_i = _check_optimize_result(\n"
     ]
    }
   ],
   "source": [
    "kfold_train_scores = np.ndarray(5)\n",
    "kfold_val_scores = np.ndarray(5)\n",
    "    \n",
    "kfold = StratifiedKFold(n_splits=5)\n",
    "\n",
    "for fold, (train_index, val_index) in enumerate(kfold.split(X_train_h1n1, y_train_h1n1)):\n",
    "        \n",
    "        num = X_train_h1n1.columns[X_train_h1n1.dtypes != 'object'].values\n",
    "        cat = X_train_h1n1.columns[X_train_h1n1.dtypes == 'object'].values\n",
    "        \n",
    "        X_t, X_val = X_train_h1n1.iloc[train_index], X_train_h1n1.iloc[val_index]\n",
    "        y_t, y_val = y_train_h1n1.iloc[train_index], y_train_h1n1.iloc[val_index]\n",
    "        \n",
    "        imputer = SimpleImputer(strategy='median')\n",
    "        X_t_imputed = imputer.fit_transform(X_t[num])\n",
    "        X_val_imputed = imputer.transform(X_val[num])\n",
    "        \n",
    "        scaler = StandardScaler()\n",
    "        X_t_scaled = scaler.fit_transform(X_t_imputed)\n",
    "        X_val_scaled = scaler.fit_transform(X_val_imputed)\n",
    "        \n",
    "        X_t_scaled_df = pd.DataFrame(X_t_scaled, index=X_t.index, columns=num)\n",
    "        X_val_scaled_df = pd.DataFrame(X_val_scaled, index=X_val.index, columns=num)\n",
    "        \n",
    "        X_t_dum = pd.get_dummies(X_t[cat])\n",
    "        X_val_dum = pd.get_dummies(X_val[cat])\n",
    "        \n",
    "        X_t_final = pd.concat([X_t_scaled_df, X_t_dum], axis=1)\n",
    "        X_val_final = pd.concat([X_val_scaled_df, X_val_dum], axis=1)\n",
    "        #ohe = OneHotEncoder()\n",
    "        #X_t_ohe = ohe.fit_transform(X_t[cat])\n",
    "        #X_val_ohe = ohe.transform(X_val[cat])\n",
    "        #print(X_t_ohe.shape)\n",
    "        \n",
    "        #X_t_final = np.concatenate([X_t_scaled, X_t_ohe], axis=1)\n",
    "        #print(X_t_final.shape)\n",
    "        \n",
    "        sm = SMOTE(random_state=42, sampling_strategy=0.28)\n",
    "        X_t_oversampled, y_t_oversampled = sm.fit_resample(X_t_final, y_t)\n",
    "        \n",
    "        temp_model = clone(LogisticRegression(random_state=42, class_weight={1: 0.28}, max_iter=150))\n",
    "        temp_model.fit(X_t_oversampled, y_t_oversampled)\n",
    "        \n",
    "        neg_log_loss_score_train = neg_log_loss(temp_model, X_t_oversampled, y_t_oversampled)\n",
    "        neg_log_loss_score_val = neg_log_loss(temp_model, X_val_final, y_val)\n",
    "        kfold_train_scores[fold] = neg_log_loss_score_train\n",
    "        kfold_val_scores[fold] = neg_log_loss_score_val\n",
    "        print(kfold_train_scores, kfold_val_scores)"
   ]
  },
  {
   "cell_type": "code",
   "execution_count": 332,
   "id": "cb9e76dd",
   "metadata": {},
   "outputs": [],
   "source": [
    "from imblearn.over_sampling import SMOTE\n",
    "from sklearn.metrics import make_scorer\n",
    "from sklearn.model_selection import StratifiedKFold\n",
    "from sklearn.base import clone\n",
    "from sklearn.metrics import log_loss\n",
    "\n",
    "def custom_cross_val_score(estimator, X, y):\n",
    "    kfold_train_scores = np.ndarray(5)\n",
    "    kfold_val_scores = np.ndarray(5)\n",
    "    \n",
    "    kfold = StratifiedKFold(n_splits=5)\n",
    "    for fold, (train_index, val_index) in enumerate(kfold.split(X, y)):\n",
    "        \n",
    "        num = X.columns[X.dtypes != 'object'].values\n",
    "        cat = X.columns[X.dtypes == 'object'].values\n",
    "        \n",
    "        X_t, X_val = X.iloc[train_index], X.iloc[val_index]\n",
    "        y_t, y_val = y.iloc[train_index], y.iloc[val_index]\n",
    "        \n",
    "        imputer = SimpleImputer(strategy='median')\n",
    "        X_t_imputed = imputer.fit_transform(X_t[num])\n",
    "        X_val_imputed = imputer.transform(X_val[num])\n",
    "        \n",
    "        scaler = StandardScaler()\n",
    "        X_t_scaled = scaler.fit_transform(X_t_imputed)\n",
    "        X_val_scaled = scaler.fit_transform(X_val_imputed)\n",
    "        \n",
    "        X_t_scaled_df = pd.DataFrame(X_t_scaled, index=X_t.index, columns=num)\n",
    "        X_val_scaled_df = pd.DataFrame(X_val_scaled, index=X_val.index, columns=num)\n",
    "        \n",
    "        X_t_dum = pd.get_dummies(X_t[cat])\n",
    "        X_val_dum = pd.get_dummies(X_val[cat])\n",
    "        \n",
    "        X_t_final = pd.concat([X_t_scaled_df, X_t_dum], axis=1)\n",
    "        X_val_final = pd.concat([X_val_scaled_df, X_val_dum], axis=1)\n",
    "        \n",
    "        sm = SMOTE(random_state=42, sampling_strategy=0.28)\n",
    "        X_t_oversampled, y_t_oversampled = sm.fit_resample(X_t_final, y_t)\n",
    "        \n",
    "        temp_model = clone(estimator)\n",
    "        temp_model.fit(X_t_oversampled, y_t_oversampled)\n",
    "        \n",
    "        neg_log_loss_score_train = neg_log_loss(temp_model, X_t_oversampled, y_t_oversampled)\n",
    "        neg_log_loss_score_val = neg_log_loss(temp_model, X_val_final, y_val)\n",
    "        kfold_train_scores[fold] = neg_log_loss_score_train\n",
    "        kfold_val_scores[fold] = neg_log_loss_score_val\n",
    "    \n",
    "    return kfold_train_scores, kfold_val_scores"
   ]
  },
  {
   "cell_type": "code",
   "execution_count": 335,
   "id": "b8907536",
   "metadata": {},
   "outputs": [
    {
     "data": {
      "text/plain": [
       "0.4629813642199833"
      ]
     },
     "execution_count": 335,
     "metadata": {},
     "output_type": "execute_result"
    }
   ],
   "source": [
    "model_with_preprocessing = LogisticRegression(random_state=42, class_weight={1: 0.28}, max_iter=250)\n",
    "preprocessed_train_scores, preprocessed_neg_log_loss_cv = custom_cross_val_score(model_with_preprocessing, X_train_h1n1, y_train_h1n1)\n",
    "-(preprocessed_neg_log_loss_cv.mean())"
   ]
  },
  {
   "cell_type": "code",
   "execution_count": 336,
   "id": "056d53d6",
   "metadata": {},
   "outputs": [],
   "source": [
    "decimals = np.arange(0.1, 0.9, 0.1)\n",
    "log_loss_mean = []"
   ]
  },
  {
   "cell_type": "code",
   "execution_count": 341,
   "id": "c999e25f",
   "metadata": {},
   "outputs": [
    {
     "name": "stderr",
     "output_type": "stream",
     "text": [
      "C:\\Users\\joshu\\anaconda3\\lib\\site-packages\\sklearn\\linear_model\\_logistic.py:814: ConvergenceWarning: lbfgs failed to converge (status=1):\n",
      "STOP: TOTAL NO. of ITERATIONS REACHED LIMIT.\n",
      "\n",
      "Increase the number of iterations (max_iter) or scale the data as shown in:\n",
      "    https://scikit-learn.org/stable/modules/preprocessing.html\n",
      "Please also refer to the documentation for alternative solver options:\n",
      "    https://scikit-learn.org/stable/modules/linear_model.html#logistic-regression\n",
      "  n_iter_i = _check_optimize_result(\n",
      "C:\\Users\\joshu\\anaconda3\\lib\\site-packages\\sklearn\\linear_model\\_logistic.py:814: ConvergenceWarning: lbfgs failed to converge (status=1):\n",
      "STOP: TOTAL NO. of ITERATIONS REACHED LIMIT.\n",
      "\n",
      "Increase the number of iterations (max_iter) or scale the data as shown in:\n",
      "    https://scikit-learn.org/stable/modules/preprocessing.html\n",
      "Please also refer to the documentation for alternative solver options:\n",
      "    https://scikit-learn.org/stable/modules/linear_model.html#logistic-regression\n",
      "  n_iter_i = _check_optimize_result(\n",
      "C:\\Users\\joshu\\anaconda3\\lib\\site-packages\\sklearn\\linear_model\\_logistic.py:814: ConvergenceWarning: lbfgs failed to converge (status=1):\n",
      "STOP: TOTAL NO. of ITERATIONS REACHED LIMIT.\n",
      "\n",
      "Increase the number of iterations (max_iter) or scale the data as shown in:\n",
      "    https://scikit-learn.org/stable/modules/preprocessing.html\n",
      "Please also refer to the documentation for alternative solver options:\n",
      "    https://scikit-learn.org/stable/modules/linear_model.html#logistic-regression\n",
      "  n_iter_i = _check_optimize_result(\n",
      "C:\\Users\\joshu\\anaconda3\\lib\\site-packages\\sklearn\\linear_model\\_logistic.py:814: ConvergenceWarning: lbfgs failed to converge (status=1):\n",
      "STOP: TOTAL NO. of ITERATIONS REACHED LIMIT.\n",
      "\n",
      "Increase the number of iterations (max_iter) or scale the data as shown in:\n",
      "    https://scikit-learn.org/stable/modules/preprocessing.html\n",
      "Please also refer to the documentation for alternative solver options:\n",
      "    https://scikit-learn.org/stable/modules/linear_model.html#logistic-regression\n",
      "  n_iter_i = _check_optimize_result(\n"
     ]
    },
    {
     "name": "stdout",
     "output_type": "stream",
     "text": [
      "Wall time: 30.9 s\n"
     ]
    },
    {
     "name": "stderr",
     "output_type": "stream",
     "text": [
      "C:\\Users\\joshu\\anaconda3\\lib\\site-packages\\sklearn\\linear_model\\_logistic.py:814: ConvergenceWarning: lbfgs failed to converge (status=1):\n",
      "STOP: TOTAL NO. of ITERATIONS REACHED LIMIT.\n",
      "\n",
      "Increase the number of iterations (max_iter) or scale the data as shown in:\n",
      "    https://scikit-learn.org/stable/modules/preprocessing.html\n",
      "Please also refer to the documentation for alternative solver options:\n",
      "    https://scikit-learn.org/stable/modules/linear_model.html#logistic-regression\n",
      "  n_iter_i = _check_optimize_result(\n"
     ]
    },
    {
     "data": {
      "text/plain": [
       "[0.61004503570525,\n",
       " 0.5050585315148346,\n",
       " 0.45528027099167956,\n",
       " 0.4267166127973134,\n",
       " 0.4090675986188727,\n",
       " 0.3977060683086292,\n",
       " 0.3906330697657822,\n",
       " 0.6100457337377414,\n",
       " 0.5050621848939564,\n",
       " 0.45523807826273666,\n",
       " 0.4265965262475575,\n",
       " 0.4088575218334614,\n",
       " 0.3976171875995086,\n",
       " 0.39058245911117984,\n",
       " 0.3864551765369251]"
      ]
     },
     "execution_count": 341,
     "metadata": {},
     "output_type": "execute_result"
    }
   ],
   "source": [
    "%%time\n",
    "\n",
    "for num in decimals:\n",
    "    model_with_preprocessing = LogisticRegression(random_state=42, class_weight={1:num}, max_iter=250)\n",
    "    preprocessed_train_scores, preprocessed_neg_log_loss_cv = custom_cross_val_score(model_with_preprocessing, X_train_h1n1, y_train_h1n1)\n",
    "    log_loss_mean.append(-(preprocessed_neg_log_loss_cv.mean()))\n",
    "log_loss_mean"
   ]
  },
  {
   "cell_type": "markdown",
   "id": "96f18429",
   "metadata": {},
   "source": [
    "___\n",
    "# Changing test set"
   ]
  },
  {
   "cell_type": "code",
   "execution_count": 119,
   "id": "dc53228f",
   "metadata": {},
   "outputs": [],
   "source": [
    "test_df[cat_col] = test_df[cat_col].fillna('None')"
   ]
  },
  {
   "cell_type": "code",
   "execution_count": 120,
   "id": "40bdee8a",
   "metadata": {},
   "outputs": [
    {
     "data": {
      "text/plain": [
       "13076"
      ]
     },
     "execution_count": 120,
     "metadata": {},
     "output_type": "execute_result"
    }
   ],
   "source": [
    "test_not_in_labor = test_df.loc[test_df['employment_status'].str.contains('Not in Labor Force')]\n",
    "test_unemployed = test_df.loc[test_df['employment_status'].str.contains('Unemployed')]\n",
    "test_none = test_df.loc[test_df['employment_status'].str.contains('None')]\n",
    "\n",
    "test_no_job = pd.concat([test_not_in_labor, test_unemployed, test_none])\n",
    "len(test_no_job)"
   ]
  },
  {
   "cell_type": "code",
   "execution_count": 121,
   "id": "ab79b8fb",
   "metadata": {},
   "outputs": [],
   "source": [
    "test_mask = test_no_job.index\n",
    "test_df.loc[test_mask, 'employment_industry'] = 'Not working'\n",
    "test_df.loc[test_mask, 'employment_occupation'] = 'No Job Title'\n",
    "\n",
    "test_mask2 = test_no_job.loc[test_no_job['health_worker'].isna()].index\n",
    "test_df.loc[test_mask2, 'health_worker'] = 0"
   ]
  },
  {
   "cell_type": "code",
   "execution_count": 122,
   "id": "d804f651",
   "metadata": {},
   "outputs": [],
   "source": [
    "X_test_set_num = test_df[numeric_col]\n",
    "X_test_set_cat = test_df[cat_col]\n",
    "num_col_h1n1 = X_h1n1.columns[X_h1n1.dtypes != 'object'].values"
   ]
  },
  {
   "cell_type": "code",
   "execution_count": 355,
   "id": "59be5d40",
   "metadata": {},
   "outputs": [],
   "source": [
    "imputer.fit(X_test_set_processed_h1n1[num_col_h1n1])\n",
    "\n",
    "X_test_set_filled_num = pd.DataFrame(imputer.transform(X_test_set_processed_h1n1[num_col_h1n1]),\n",
    "                                       index=X_test_set_processed_h1n1[num_col_h1n1].index,\n",
    "                                       columns=X_test_set_processed_h1n1[num_col_h1n1].columns)\n",
    "\n",
    "std.fit(X_test_set_filled_num)\n",
    "X_test_set_scaled = pd.DataFrame(std.transform(X_test_set_filled_num),\n",
    "                                       index=X_test_set_filled_num.index,\n",
    "                                       columns=X_test_set_filled_num.columns)"
   ]
  },
  {
   "cell_type": "code",
   "execution_count": 373,
   "id": "6f81a40c",
   "metadata": {},
   "outputs": [],
   "source": [
    "ohe_test = OneHotEncoder(handle_unknown='error', sparse=False)\n",
    "test_feat = ohe_test.fit_transform(test_df[cat_col_h1n1])\n",
    "\n",
    "X_test_set_ohe = pd.DataFrame(test_feat,\n",
    "                                index=test_df[cat_col_h1n1].index,\n",
    "                                columns=np.hstack(ohe_test.categories_))"
   ]
  },
  {
   "cell_type": "code",
   "execution_count": 353,
   "id": "ce3514e1",
   "metadata": {},
   "outputs": [],
   "source": [
    "X_test_set_processed_h1n1 = test_df.drop(['behavioral_large_gatherings',\n",
    "                  'behavioral_outside_home',\n",
    "                  'opinion_seas_sick_from_vacc',\n",
    "                  'sex',\n",
    "                  'census_msa',\n",
    "                  'household_children'], axis=1)"
   ]
  },
  {
   "cell_type": "code",
   "execution_count": 374,
   "id": "a281324c",
   "metadata": {},
   "outputs": [],
   "source": [
    "X_test_set_processed = pd.concat([X_test_set_scaled, X_test_set_ohe], axis=1)"
   ]
  },
  {
   "cell_type": "code",
   "execution_count": 378,
   "id": "c5d675de",
   "metadata": {},
   "outputs": [],
   "source": [
    "X_test_set_processed_seasonal = test_df.drop([\n",
    "                      'behavioral_antiviral_meds',\n",
    "                      'child_under_6_months',\n",
    "                      'opinion_h1n1_sick_from_vacc',\n",
    "                      'census_msa'], axis=1)\n",
    "\n",
    "imputer.fit(X_test_set_processed_seasonal[num_col_seasonal])\n",
    "\n",
    "X_test_set_filled_num = pd.DataFrame(imputer.transform(X_test_set_processed_seasonal[num_col_seasonal]),\n",
    "                                       index=X_test_set_processed_seasonal[num_col_seasonal].index,\n",
    "                                       columns=X_test_set_processed_seasonal[num_col_seasonal].columns)\n",
    "\n",
    "std.fit(X_test_set_filled_num)\n",
    "X_test_set_scaled = pd.DataFrame(std.transform(X_test_set_filled_num),\n",
    "                                       index=X_test_set_filled_num.index,\n",
    "                                       columns=X_test_set_filled_num.columns)\n",
    "\n",
    "ohe_test = OneHotEncoder(handle_unknown='error', sparse=False)\n",
    "test_feat = ohe_test.fit_transform(test_df[cat_col_seasonal])\n",
    "\n",
    "X_test_set_ohe = pd.DataFrame(test_feat,\n",
    "                                index=test_df[cat_col_seasonal].index,\n",
    "                                columns=np.hstack(ohe_test.categories_))\n",
    "X_test_set_processed_seasonal = pd.concat([X_test_set_scaled, X_test_set_ohe], axis=1)"
   ]
  },
  {
   "cell_type": "code",
   "execution_count": 379,
   "id": "bf370a27",
   "metadata": {},
   "outputs": [],
   "source": [
    "log_model.fit(X_train_h1n1_processed, y_train_h1n1)\n",
    "y_hat_h1n1 = log_model.predict_proba(X_test_set_processed)"
   ]
  },
  {
   "cell_type": "code",
   "execution_count": 380,
   "id": "27b89694",
   "metadata": {},
   "outputs": [
    {
     "data": {
      "text/plain": [
       "array([[0.90754844, 0.09245156],\n",
       "       [0.96393886, 0.03606114],\n",
       "       [0.50849532, 0.49150468],\n",
       "       ...,\n",
       "       [0.85689667, 0.14310333],\n",
       "       [0.95072339, 0.04927661],\n",
       "       [0.58224375, 0.41775625]])"
      ]
     },
     "execution_count": 380,
     "metadata": {},
     "output_type": "execute_result"
    }
   ],
   "source": [
    "y_hat_h1n1"
   ]
  },
  {
   "cell_type": "code",
   "execution_count": 381,
   "id": "7fb0d92e",
   "metadata": {},
   "outputs": [],
   "source": [
    "log_model.fit(X_train_seasonal_processed, y_train_seasonal)\n",
    "y_hat_seasonal = log_model.predict_proba(X_test_set_processed_seasonal)"
   ]
  },
  {
   "cell_type": "code",
   "execution_count": 382,
   "id": "17000f96",
   "metadata": {},
   "outputs": [],
   "source": [
    "submission_df = pd.read_csv('submission_format.csv', index_col='respondent_id')\n",
    "submission_df['h1n1_vaccine'] = y_hat_h1n1[:, 1]\n",
    "submission_df['seasonal_vaccine'] = y_hat_seasonal[:, 1]"
   ]
  },
  {
   "cell_type": "code",
   "execution_count": 383,
   "id": "af652776",
   "metadata": {},
   "outputs": [
    {
     "data": {
      "text/html": [
       "<div>\n",
       "<style scoped>\n",
       "    .dataframe tbody tr th:only-of-type {\n",
       "        vertical-align: middle;\n",
       "    }\n",
       "\n",
       "    .dataframe tbody tr th {\n",
       "        vertical-align: top;\n",
       "    }\n",
       "\n",
       "    .dataframe thead th {\n",
       "        text-align: right;\n",
       "    }\n",
       "</style>\n",
       "<table border=\"1\" class=\"dataframe\">\n",
       "  <thead>\n",
       "    <tr style=\"text-align: right;\">\n",
       "      <th></th>\n",
       "      <th>h1n1_vaccine</th>\n",
       "      <th>seasonal_vaccine</th>\n",
       "    </tr>\n",
       "    <tr>\n",
       "      <th>respondent_id</th>\n",
       "      <th></th>\n",
       "      <th></th>\n",
       "    </tr>\n",
       "  </thead>\n",
       "  <tbody>\n",
       "    <tr>\n",
       "      <th>26707</th>\n",
       "      <td>0.092452</td>\n",
       "      <td>0.279199</td>\n",
       "    </tr>\n",
       "    <tr>\n",
       "      <th>26708</th>\n",
       "      <td>0.036061</td>\n",
       "      <td>0.049120</td>\n",
       "    </tr>\n",
       "    <tr>\n",
       "      <th>26709</th>\n",
       "      <td>0.491505</td>\n",
       "      <td>0.586962</td>\n",
       "    </tr>\n",
       "    <tr>\n",
       "      <th>26710</th>\n",
       "      <td>0.478546</td>\n",
       "      <td>0.868233</td>\n",
       "    </tr>\n",
       "    <tr>\n",
       "      <th>26711</th>\n",
       "      <td>0.150360</td>\n",
       "      <td>0.509737</td>\n",
       "    </tr>\n",
       "  </tbody>\n",
       "</table>\n",
       "</div>"
      ],
      "text/plain": [
       "               h1n1_vaccine  seasonal_vaccine\n",
       "respondent_id                                \n",
       "26707              0.092452          0.279199\n",
       "26708              0.036061          0.049120\n",
       "26709              0.491505          0.586962\n",
       "26710              0.478546          0.868233\n",
       "26711              0.150360          0.509737"
      ]
     },
     "execution_count": 383,
     "metadata": {},
     "output_type": "execute_result"
    }
   ],
   "source": [
    "submission_df.head()"
   ]
  },
  {
   "cell_type": "markdown",
   "id": "3d6f4653",
   "metadata": {},
   "source": [
    "___\n",
    "# ROC and AUC"
   ]
  },
  {
   "cell_type": "code",
   "execution_count": 344,
   "id": "b71e31b8",
   "metadata": {},
   "outputs": [],
   "source": [
    "from sklearn.metrics import roc_curve, auc\n",
    "\n",
    "model_log = log_model.fit(X_train_h1n1_processed, y_train_h1n1)\n",
    "\n",
    "y_train_score = model_log.decision_function(X_train_h1n1_processed)\n",
    "train_fpr, train_tpr, thresholds = roc_curve(y_train_h1n1, y_train_score)\n",
    "\n",
    "y_score = model_log.decision_function(X_test_h1n1_processed)\n",
    "fpr, tpr, thresholds = roc_curve(y_test_h1n1, y_score)"
   ]
  },
  {
   "cell_type": "code",
   "execution_count": 345,
   "id": "65ab7bae",
   "metadata": {},
   "outputs": [
    {
     "name": "stdout",
     "output_type": "stream",
     "text": [
      "AUC: 0.8390275543366205\n"
     ]
    },
    {
     "data": {
      "image/png": "[encoded data removed]",
      "text/plain": [
       "<Figure size 1000x800 with 1 Axes>"
      ]
     },
     "metadata": {},
     "output_type": "display_data"
    }
   ],
   "source": [
    "import matplotlib.pyplot as plt\n",
    "import seaborn as sns\n",
    "%matplotlib inline\n",
    "\n",
    "sns.set_style('darkgrid', {'axes.facecolor': '0.9'})\n",
    "\n",
    "plt.figure(figsize=(10, 8))\n",
    "lw = 2\n",
    "plt.plot(train_fpr, train_tpr, color='darkorange',\n",
    "         lw=lw, label='ROC curve')\n",
    "plt.plot([0, 1], [0, 1], color='navy', lw=lw, linestyle='--')\n",
    "plt.xlim([0.0, 1.0])\n",
    "plt.ylim([0.0, 1.05])\n",
    "plt.yticks([i/20.0 for i in range(21)])\n",
    "plt.xticks([i/20.0 for i in range(21)])\n",
    "plt.xlabel('False Positive Rate')\n",
    "plt.ylabel('True Positive Rate')\n",
    "plt.title('Receiver operating characteristic (ROC) Curve for Training Set')\n",
    "plt.legend(loc='lower right')\n",
    "print('AUC: {}'.format(auc(train_fpr, train_tpr)))\n",
    "plt.show()"
   ]
  },
  {
   "cell_type": "code",
   "execution_count": 346,
   "id": "c5d4edf0",
   "metadata": {},
   "outputs": [
    {
     "name": "stdout",
     "output_type": "stream",
     "text": [
      "AUC: 0.8292943967586459\n"
     ]
    },
    {
     "data": {
      "image/png": "[encoded data removed]",
      "text/plain": [
       "<Figure size 1000x800 with 1 Axes>"
      ]
     },
     "metadata": {},
     "output_type": "display_data"
    }
   ],
   "source": [
    "plt.figure(figsize=(10, 8))\n",
    "lw = 2\n",
    "plt.plot(fpr, tpr, color='darkorange',\n",
    "         lw=lw, label='ROC curve')\n",
    "plt.plot([0, 1], [0, 1], color='navy', lw=lw, linestyle='--')\n",
    "plt.xlim([0.0, 1.0])\n",
    "plt.ylim([0.0, 1.05])\n",
    "plt.yticks([i/20.0 for i in range(21)])\n",
    "plt.xticks([i/20.0 for i in range(21)])\n",
    "plt.xlabel('False Positive Rate')\n",
    "plt.ylabel('True Positive Rate')\n",
    "plt.title('Receiver operating characteristic (ROC) Curve for Testing Set')\n",
    "plt.legend(loc='lower right')\n",
    "print('AUC: {}'.format(auc(fpr, tpr)))\n",
    "plt.show()"
   ]
  },
  {
   "cell_type": "markdown",
   "id": "52247811",
   "metadata": {},
   "source": [
    "___\n",
    "# KNN"
   ]
  },
  {
   "cell_type": "code",
   "execution_count": 142,
   "id": "6e3ee691",
   "metadata": {
    "scrolled": true
   },
   "outputs": [
    {
     "name": "stderr",
     "output_type": "stream",
     "text": [
      "C:\\Users\\joshu\\anaconda3\\lib\\site-packages\\sklearn\\neighbors\\_classification.py:228: FutureWarning: Unlike other reduction functions (e.g. `skew`, `kurtosis`), the default behavior of `mode` typically preserves the axis it acts along. In SciPy 1.11.0, this behavior will change: the default value of `keepdims` will become False, the `axis` over which the statistic is taken will be eliminated, and the value None will no longer be accepted. Set `keepdims` to True or False to avoid this warning.\n",
      "  mode, _ = stats.mode(_y[neigh_ind, k], axis=1)\n"
     ]
    },
    {
     "data": {
      "text/plain": [
       "1.5011289013740121"
      ]
     },
     "execution_count": 142,
     "metadata": {},
     "output_type": "execute_result"
    }
   ],
   "source": [
    "clf = KNeighborsClassifier(n_neighbors=7)\n",
    "\n",
    "clf.fit(X_train_processed, y_train)\n",
    "\n",
    "test_preds = clf.predict(X_test_processed)\n",
    "\n",
    "knn_baseline_log_loss = cross_val_score(clf, X_train_processed, y_train['h1n1_vaccine'], scoring='neg_log_loss')\n",
    "\n",
    "mean_knn_log_loss = -np.average(knn_baseline_log_loss)\n",
    "mean_knn_log_loss"
   ]
  },
  {
   "cell_type": "code",
   "execution_count": 135,
   "id": "5782a961",
   "metadata": {},
   "outputs": [],
   "source": [
    "from sklearn.metrics import precision_score, recall_score, accuracy_score, f1_score\n",
    "\n",
    "def print_metrics(labels, preds):\n",
    "    print(\"Precision Score: {}\".format(precision_score(labels, preds)))\n",
    "    print(\"Recall Score: {}\".format(recall_score(labels, preds)))\n",
    "    print(\"Accuracy Score: {}\".format(accuracy_score(labels, preds)))\n",
    "    print(\"F1 Score: {}\".format(f1_score(labels, preds)))"
   ]
  },
  {
   "cell_type": "code",
   "execution_count": 136,
   "id": "1b72b3e8",
   "metadata": {},
   "outputs": [
    {
     "name": "stdout",
     "output_type": "stream",
     "text": [
      "Precision Score: 0.616822429906542\n",
      "Recall Score: 0.38782051282051283\n",
      "Accuracy Score: 0.8188109825277967\n",
      "F1 Score: 0.4762217120367333\n"
     ]
    }
   ],
   "source": [
    "print_metrics(y_test['h1n1_vaccine'], [item[0] for item in test_preds])"
   ]
  },
  {
   "cell_type": "code",
   "execution_count": 137,
   "id": "e9f4eb2e",
   "metadata": {},
   "outputs": [
    {
     "name": "stdout",
     "output_type": "stream",
     "text": [
      "Precision Score: 0.7053116662624302\n",
      "Recall Score: 0.7085769980506823\n",
      "Accuracy Score: 0.7264579078738371\n",
      "F1 Score: 0.7069405615655767\n"
     ]
    }
   ],
   "source": [
    "print_metrics(y_test['seasonal_vaccine'], [item[1] for item in test_preds])"
   ]
  },
  {
   "cell_type": "code",
   "execution_count": 138,
   "id": "93d6fd3a",
   "metadata": {},
   "outputs": [],
   "source": [
    "def find_best_k(X_train, y_train, X_test, y_test, min_k=1, max_k=25):\n",
    "    best_k = 0\n",
    "    best_score = 0.0\n",
    "    for k in range(min_k, max_k+1, 2):\n",
    "        knn = KNeighborsClassifier(n_neighbors=k)\n",
    "        knn.fit(X_train, y_train)\n",
    "        preds = knn.predict(X_test)\n",
    "        f1 = f1_score(y_test, preds)\n",
    "        if f1 > best_score:\n",
    "            best_k = k\n",
    "            best_score = f1\n",
    "    \n",
    "    print(\"Best Value for k: {}\".format(best_k))\n",
    "    print(\"F1-Score: {}\".format(best_score))"
   ]
  },
  {
   "cell_type": "code",
   "execution_count": 139,
   "id": "30bcec8b",
   "metadata": {
    "scrolled": false
   },
   "outputs": [
    {
     "name": "stderr",
     "output_type": "stream",
     "text": [
      "C:\\Users\\joshu\\anaconda3\\lib\\site-packages\\sklearn\\neighbors\\_classification.py:228: FutureWarning: Unlike other reduction functions (e.g. `skew`, `kurtosis`), the default behavior of `mode` typically preserves the axis it acts along. In SciPy 1.11.0, this behavior will change: the default value of `keepdims` will become False, the `axis` over which the statistic is taken will be eliminated, and the value None will no longer be accepted. Set `keepdims` to True or False to avoid this warning.\n",
      "  mode, _ = stats.mode(_y[neigh_ind, k], axis=1)\n",
      "C:\\Users\\joshu\\anaconda3\\lib\\site-packages\\sklearn\\neighbors\\_classification.py:228: FutureWarning: Unlike other reduction functions (e.g. `skew`, `kurtosis`), the default behavior of `mode` typically preserves the axis it acts along. In SciPy 1.11.0, this behavior will change: the default value of `keepdims` will become False, the `axis` over which the statistic is taken will be eliminated, and the value None will no longer be accepted. Set `keepdims` to True or False to avoid this warning.\n",
      "  mode, _ = stats.mode(_y[neigh_ind, k], axis=1)\n",
      "C:\\Users\\joshu\\anaconda3\\lib\\site-packages\\sklearn\\neighbors\\_classification.py:228: FutureWarning: Unlike other reduction functions (e.g. `skew`, `kurtosis`), the default behavior of `mode` typically preserves the axis it acts along. In SciPy 1.11.0, this behavior will change: the default value of `keepdims` will become False, the `axis` over which the statistic is taken will be eliminated, and the value None will no longer be accepted. Set `keepdims` to True or False to avoid this warning.\n",
      "  mode, _ = stats.mode(_y[neigh_ind, k], axis=1)\n",
      "C:\\Users\\joshu\\anaconda3\\lib\\site-packages\\sklearn\\neighbors\\_classification.py:228: FutureWarning: Unlike other reduction functions (e.g. `skew`, `kurtosis`), the default behavior of `mode` typically preserves the axis it acts along. In SciPy 1.11.0, this behavior will change: the default value of `keepdims` will become False, the `axis` over which the statistic is taken will be eliminated, and the value None will no longer be accepted. Set `keepdims` to True or False to avoid this warning.\n",
      "  mode, _ = stats.mode(_y[neigh_ind, k], axis=1)\n",
      "C:\\Users\\joshu\\anaconda3\\lib\\site-packages\\sklearn\\neighbors\\_classification.py:228: FutureWarning: Unlike other reduction functions (e.g. `skew`, `kurtosis`), the default behavior of `mode` typically preserves the axis it acts along. In SciPy 1.11.0, this behavior will change: the default value of `keepdims` will become False, the `axis` over which the statistic is taken will be eliminated, and the value None will no longer be accepted. Set `keepdims` to True or False to avoid this warning.\n",
      "  mode, _ = stats.mode(_y[neigh_ind, k], axis=1)\n",
      "C:\\Users\\joshu\\anaconda3\\lib\\site-packages\\sklearn\\neighbors\\_classification.py:228: FutureWarning: Unlike other reduction functions (e.g. `skew`, `kurtosis`), the default behavior of `mode` typically preserves the axis it acts along. In SciPy 1.11.0, this behavior will change: the default value of `keepdims` will become False, the `axis` over which the statistic is taken will be eliminated, and the value None will no longer be accepted. Set `keepdims` to True or False to avoid this warning.\n",
      "  mode, _ = stats.mode(_y[neigh_ind, k], axis=1)\n",
      "C:\\Users\\joshu\\anaconda3\\lib\\site-packages\\sklearn\\neighbors\\_classification.py:228: FutureWarning: Unlike other reduction functions (e.g. `skew`, `kurtosis`), the default behavior of `mode` typically preserves the axis it acts along. In SciPy 1.11.0, this behavior will change: the default value of `keepdims` will become False, the `axis` over which the statistic is taken will be eliminated, and the value None will no longer be accepted. Set `keepdims` to True or False to avoid this warning.\n",
      "  mode, _ = stats.mode(_y[neigh_ind, k], axis=1)\n",
      "C:\\Users\\joshu\\anaconda3\\lib\\site-packages\\sklearn\\neighbors\\_classification.py:228: FutureWarning: Unlike other reduction functions (e.g. `skew`, `kurtosis`), the default behavior of `mode` typically preserves the axis it acts along. In SciPy 1.11.0, this behavior will change: the default value of `keepdims` will become False, the `axis` over which the statistic is taken will be eliminated, and the value None will no longer be accepted. Set `keepdims` to True or False to avoid this warning.\n",
      "  mode, _ = stats.mode(_y[neigh_ind, k], axis=1)\n",
      "C:\\Users\\joshu\\anaconda3\\lib\\site-packages\\sklearn\\neighbors\\_classification.py:228: FutureWarning: Unlike other reduction functions (e.g. `skew`, `kurtosis`), the default behavior of `mode` typically preserves the axis it acts along. In SciPy 1.11.0, this behavior will change: the default value of `keepdims` will become False, the `axis` over which the statistic is taken will be eliminated, and the value None will no longer be accepted. Set `keepdims` to True or False to avoid this warning.\n",
      "  mode, _ = stats.mode(_y[neigh_ind, k], axis=1)\n",
      "C:\\Users\\joshu\\anaconda3\\lib\\site-packages\\sklearn\\neighbors\\_classification.py:228: FutureWarning: Unlike other reduction functions (e.g. `skew`, `kurtosis`), the default behavior of `mode` typically preserves the axis it acts along. In SciPy 1.11.0, this behavior will change: the default value of `keepdims` will become False, the `axis` over which the statistic is taken will be eliminated, and the value None will no longer be accepted. Set `keepdims` to True or False to avoid this warning.\n",
      "  mode, _ = stats.mode(_y[neigh_ind, k], axis=1)\n",
      "C:\\Users\\joshu\\anaconda3\\lib\\site-packages\\sklearn\\neighbors\\_classification.py:228: FutureWarning: Unlike other reduction functions (e.g. `skew`, `kurtosis`), the default behavior of `mode` typically preserves the axis it acts along. In SciPy 1.11.0, this behavior will change: the default value of `keepdims` will become False, the `axis` over which the statistic is taken will be eliminated, and the value None will no longer be accepted. Set `keepdims` to True or False to avoid this warning.\n",
      "  mode, _ = stats.mode(_y[neigh_ind, k], axis=1)\n",
      "C:\\Users\\joshu\\anaconda3\\lib\\site-packages\\sklearn\\neighbors\\_classification.py:228: FutureWarning: Unlike other reduction functions (e.g. `skew`, `kurtosis`), the default behavior of `mode` typically preserves the axis it acts along. In SciPy 1.11.0, this behavior will change: the default value of `keepdims` will become False, the `axis` over which the statistic is taken will be eliminated, and the value None will no longer be accepted. Set `keepdims` to True or False to avoid this warning.\n",
      "  mode, _ = stats.mode(_y[neigh_ind, k], axis=1)\n",
      "C:\\Users\\joshu\\anaconda3\\lib\\site-packages\\sklearn\\neighbors\\_classification.py:228: FutureWarning: Unlike other reduction functions (e.g. `skew`, `kurtosis`), the default behavior of `mode` typically preserves the axis it acts along. In SciPy 1.11.0, this behavior will change: the default value of `keepdims` will become False, the `axis` over which the statistic is taken will be eliminated, and the value None will no longer be accepted. Set `keepdims` to True or False to avoid this warning.\n",
      "  mode, _ = stats.mode(_y[neigh_ind, k], axis=1)\n"
     ]
    },
    {
     "name": "stdout",
     "output_type": "stream",
     "text": [
      "Best Value for k: 13\n",
      "F1-Score: 0.48824714573539296\n"
     ]
    }
   ],
   "source": [
    "find_best_k(X_train_processed, y_train['h1n1_vaccine'], X_test_processed, y_test['h1n1_vaccine'])"
   ]
  },
  {
   "cell_type": "code",
   "execution_count": 143,
   "id": "9fe1c91d",
   "metadata": {},
   "outputs": [
    {
     "name": "stdout",
     "output_type": "stream",
     "text": [
      "Wall time: 1min 46s\n"
     ]
    },
    {
     "data": {
      "text/plain": [
       "1.9553887323341037"
      ]
     },
     "execution_count": 143,
     "metadata": {},
     "output_type": "execute_result"
    }
   ],
   "source": [
    "%%time\n",
    "knn_baseline_model_p1 = KNeighborsClassifier(p=1)\n",
    "\n",
    "knn_baseline_log_loss_p1 = cross_val_score(knn_baseline_model_p1, X_train_processed, y_train['h1n1_vaccine'], scoring='neg_log_loss')\n",
    "\n",
    "mean_knn_log_loss_p1 = -np.average(knn_baseline_log_loss_p1)\n",
    "mean_knn_log_loss_p1"
   ]
  },
  {
   "cell_type": "code",
   "execution_count": 144,
   "id": "8926cfc2",
   "metadata": {},
   "outputs": [
    {
     "name": "stdout",
     "output_type": "stream",
     "text": [
      "Wall time: 8min 19s\n"
     ]
    },
    {
     "data": {
      "text/plain": [
       "1.981163416009387"
      ]
     },
     "execution_count": 144,
     "metadata": {},
     "output_type": "execute_result"
    }
   ],
   "source": [
    "%%time\n",
    "knn_baseline_model_p15 = KNeighborsClassifier(p=1.5)\n",
    "\n",
    "knn_baseline_log_loss_p15 = cross_val_score(knn_baseline_model_p15, X_train_processed, y_train['h1n1_vaccine'], scoring='neg_log_loss')\n",
    "\n",
    "mean_knn_log_loss_p15 = -np.average(knn_baseline_log_loss_p15)\n",
    "mean_knn_log_loss_p15"
   ]
  },
  {
   "cell_type": "markdown",
   "id": "d2dd63d7",
   "metadata": {},
   "source": [
    "___\n",
    "# Decision Tree"
   ]
  },
  {
   "cell_type": "code",
   "execution_count": 148,
   "id": "999803b5",
   "metadata": {},
   "outputs": [],
   "source": [
    "from sklearn.tree import DecisionTreeRegressor\n",
    "\n",
    "regressor = DecisionTreeRegressor(random_state=42)"
   ]
  },
  {
   "cell_type": "code",
   "execution_count": 150,
   "id": "c41f1563",
   "metadata": {},
   "outputs": [
    {
     "name": "stderr",
     "output_type": "stream",
     "text": [
      "C:\\Users\\joshu\\anaconda3\\lib\\site-packages\\sklearn\\model_selection\\_validation.py:770: UserWarning: Scoring failed. The score on this train-test partition for these parameters will be set to nan. Details: \n",
      "Traceback (most recent call last):\n",
      "  File \"C:\\Users\\joshu\\anaconda3\\lib\\site-packages\\sklearn\\model_selection\\_validation.py\", line 761, in _score\n",
      "    scores = scorer(estimator, X_test, y_test)\n",
      "  File \"C:\\Users\\joshu\\anaconda3\\lib\\site-packages\\sklearn\\metrics\\_scorer.py\", line 103, in __call__\n",
      "    score = scorer._score(cached_call, estimator, *args, **kwargs)\n",
      "  File \"C:\\Users\\joshu\\anaconda3\\lib\\site-packages\\sklearn\\metrics\\_scorer.py\", line 298, in _score\n",
      "    y_pred = method_caller(clf, \"predict_proba\", X)\n",
      "  File \"C:\\Users\\joshu\\anaconda3\\lib\\site-packages\\sklearn\\metrics\\_scorer.py\", line 68, in _cached_call\n",
      "    return getattr(estimator, method)(*args, **kwargs)\n",
      "AttributeError: 'DecisionTreeRegressor' object has no attribute 'predict_proba'\n",
      "\n",
      "  warnings.warn(\n",
      "C:\\Users\\joshu\\anaconda3\\lib\\site-packages\\sklearn\\model_selection\\_validation.py:770: UserWarning: Scoring failed. The score on this train-test partition for these parameters will be set to nan. Details: \n",
      "Traceback (most recent call last):\n",
      "  File \"C:\\Users\\joshu\\anaconda3\\lib\\site-packages\\sklearn\\model_selection\\_validation.py\", line 761, in _score\n",
      "    scores = scorer(estimator, X_test, y_test)\n",
      "  File \"C:\\Users\\joshu\\anaconda3\\lib\\site-packages\\sklearn\\metrics\\_scorer.py\", line 103, in __call__\n",
      "    score = scorer._score(cached_call, estimator, *args, **kwargs)\n",
      "  File \"C:\\Users\\joshu\\anaconda3\\lib\\site-packages\\sklearn\\metrics\\_scorer.py\", line 298, in _score\n",
      "    y_pred = method_caller(clf, \"predict_proba\", X)\n",
      "  File \"C:\\Users\\joshu\\anaconda3\\lib\\site-packages\\sklearn\\metrics\\_scorer.py\", line 68, in _cached_call\n",
      "    return getattr(estimator, method)(*args, **kwargs)\n",
      "AttributeError: 'DecisionTreeRegressor' object has no attribute 'predict_proba'\n",
      "\n",
      "  warnings.warn(\n",
      "C:\\Users\\joshu\\anaconda3\\lib\\site-packages\\sklearn\\model_selection\\_validation.py:770: UserWarning: Scoring failed. The score on this train-test partition for these parameters will be set to nan. Details: \n",
      "Traceback (most recent call last):\n",
      "  File \"C:\\Users\\joshu\\anaconda3\\lib\\site-packages\\sklearn\\model_selection\\_validation.py\", line 761, in _score\n",
      "    scores = scorer(estimator, X_test, y_test)\n",
      "  File \"C:\\Users\\joshu\\anaconda3\\lib\\site-packages\\sklearn\\metrics\\_scorer.py\", line 103, in __call__\n",
      "    score = scorer._score(cached_call, estimator, *args, **kwargs)\n",
      "  File \"C:\\Users\\joshu\\anaconda3\\lib\\site-packages\\sklearn\\metrics\\_scorer.py\", line 298, in _score\n",
      "    y_pred = method_caller(clf, \"predict_proba\", X)\n",
      "  File \"C:\\Users\\joshu\\anaconda3\\lib\\site-packages\\sklearn\\metrics\\_scorer.py\", line 68, in _cached_call\n",
      "    return getattr(estimator, method)(*args, **kwargs)\n",
      "AttributeError: 'DecisionTreeRegressor' object has no attribute 'predict_proba'\n",
      "\n",
      "  warnings.warn(\n",
      "C:\\Users\\joshu\\anaconda3\\lib\\site-packages\\sklearn\\model_selection\\_validation.py:770: UserWarning: Scoring failed. The score on this train-test partition for these parameters will be set to nan. Details: \n",
      "Traceback (most recent call last):\n",
      "  File \"C:\\Users\\joshu\\anaconda3\\lib\\site-packages\\sklearn\\model_selection\\_validation.py\", line 761, in _score\n",
      "    scores = scorer(estimator, X_test, y_test)\n",
      "  File \"C:\\Users\\joshu\\anaconda3\\lib\\site-packages\\sklearn\\metrics\\_scorer.py\", line 103, in __call__\n",
      "    score = scorer._score(cached_call, estimator, *args, **kwargs)\n",
      "  File \"C:\\Users\\joshu\\anaconda3\\lib\\site-packages\\sklearn\\metrics\\_scorer.py\", line 298, in _score\n",
      "    y_pred = method_caller(clf, \"predict_proba\", X)\n",
      "  File \"C:\\Users\\joshu\\anaconda3\\lib\\site-packages\\sklearn\\metrics\\_scorer.py\", line 68, in _cached_call\n",
      "    return getattr(estimator, method)(*args, **kwargs)\n",
      "AttributeError: 'DecisionTreeRegressor' object has no attribute 'predict_proba'\n",
      "\n",
      "  warnings.warn(\n",
      "C:\\Users\\joshu\\anaconda3\\lib\\site-packages\\sklearn\\model_selection\\_validation.py:770: UserWarning: Scoring failed. The score on this train-test partition for these parameters will be set to nan. Details: \n",
      "Traceback (most recent call last):\n",
      "  File \"C:\\Users\\joshu\\anaconda3\\lib\\site-packages\\sklearn\\model_selection\\_validation.py\", line 761, in _score\n",
      "    scores = scorer(estimator, X_test, y_test)\n",
      "  File \"C:\\Users\\joshu\\anaconda3\\lib\\site-packages\\sklearn\\metrics\\_scorer.py\", line 103, in __call__\n",
      "    score = scorer._score(cached_call, estimator, *args, **kwargs)\n",
      "  File \"C:\\Users\\joshu\\anaconda3\\lib\\site-packages\\sklearn\\metrics\\_scorer.py\", line 298, in _score\n",
      "    y_pred = method_caller(clf, \"predict_proba\", X)\n",
      "  File \"C:\\Users\\joshu\\anaconda3\\lib\\site-packages\\sklearn\\metrics\\_scorer.py\", line 68, in _cached_call\n",
      "    return getattr(estimator, method)(*args, **kwargs)\n",
      "AttributeError: 'DecisionTreeRegressor' object has no attribute 'predict_proba'\n",
      "\n",
      "  warnings.warn(\n"
     ]
    },
    {
     "data": {
      "text/plain": [
       "nan"
      ]
     },
     "execution_count": 150,
     "metadata": {},
     "output_type": "execute_result"
    }
   ],
   "source": [
    "regressor_log_loss = cross_val_score(regressor, X_train_processed, y_train, scoring='neg_log_loss')\n",
    "mean_regressor_log_loss = -np.average(regressor_log_loss)\n",
    "mean_regressor_log_loss"
   ]
  },
  {
   "cell_type": "code",
   "execution_count": 99,
   "id": "174ff8cb",
   "metadata": {},
   "outputs": [
    {
     "data": {
      "text/html": [
       "<div>\n",
       "<style scoped>\n",
       "    .dataframe tbody tr th:only-of-type {\n",
       "        vertical-align: middle;\n",
       "    }\n",
       "\n",
       "    .dataframe tbody tr th {\n",
       "        vertical-align: top;\n",
       "    }\n",
       "\n",
       "    .dataframe thead th {\n",
       "        text-align: right;\n",
       "    }\n",
       "</style>\n",
       "<table border=\"1\" class=\"dataframe\">\n",
       "  <thead>\n",
       "    <tr style=\"text-align: right;\">\n",
       "      <th></th>\n",
       "      <th>h1n1_concern</th>\n",
       "      <th>h1n1_knowledge</th>\n",
       "      <th>behavioral_antiviral_meds</th>\n",
       "      <th>behavioral_avoidance</th>\n",
       "      <th>behavioral_face_mask</th>\n",
       "      <th>behavioral_wash_hands</th>\n",
       "      <th>behavioral_large_gatherings</th>\n",
       "      <th>behavioral_outside_home</th>\n",
       "      <th>behavioral_touch_face</th>\n",
       "      <th>doctor_recc_h1n1</th>\n",
       "      <th>...</th>\n",
       "      <th>fpwskwrf</th>\n",
       "      <th>kbazzjca</th>\n",
       "      <th>lrircsnp</th>\n",
       "      <th>lzgpxyit</th>\n",
       "      <th>mlyzmhmf</th>\n",
       "      <th>oxchjgsf</th>\n",
       "      <th>qufhixun</th>\n",
       "      <th>MSA, Not Principle  City</th>\n",
       "      <th>MSA, Principle City</th>\n",
       "      <th>Non-MSA</th>\n",
       "    </tr>\n",
       "    <tr>\n",
       "      <th>respondent_id</th>\n",
       "      <th></th>\n",
       "      <th></th>\n",
       "      <th></th>\n",
       "      <th></th>\n",
       "      <th></th>\n",
       "      <th></th>\n",
       "      <th></th>\n",
       "      <th></th>\n",
       "      <th></th>\n",
       "      <th></th>\n",
       "      <th></th>\n",
       "      <th></th>\n",
       "      <th></th>\n",
       "      <th></th>\n",
       "      <th></th>\n",
       "      <th></th>\n",
       "      <th></th>\n",
       "      <th></th>\n",
       "      <th></th>\n",
       "      <th></th>\n",
       "      <th></th>\n",
       "    </tr>\n",
       "  </thead>\n",
       "  <tbody>\n",
       "    <tr>\n",
       "      <th>15772</th>\n",
       "      <td>0.418027</td>\n",
       "      <td>-0.428481</td>\n",
       "      <td>-0.226446</td>\n",
       "      <td>0.613781</td>\n",
       "      <td>3.649297</td>\n",
       "      <td>0.462536</td>\n",
       "      <td>1.342892</td>\n",
       "      <td>1.40280</td>\n",
       "      <td>0.692409</td>\n",
       "      <td>-0.505533</td>\n",
       "      <td>...</td>\n",
       "      <td>0.0</td>\n",
       "      <td>0.0</td>\n",
       "      <td>0.0</td>\n",
       "      <td>0.0</td>\n",
       "      <td>0.0</td>\n",
       "      <td>0.0</td>\n",
       "      <td>0.0</td>\n",
       "      <td>0.0</td>\n",
       "      <td>1.0</td>\n",
       "      <td>0.0</td>\n",
       "    </tr>\n",
       "    <tr>\n",
       "      <th>9407</th>\n",
       "      <td>1.519314</td>\n",
       "      <td>-2.051490</td>\n",
       "      <td>-0.226446</td>\n",
       "      <td>0.613781</td>\n",
       "      <td>3.649297</td>\n",
       "      <td>0.462536</td>\n",
       "      <td>1.342892</td>\n",
       "      <td>1.40280</td>\n",
       "      <td>-1.444234</td>\n",
       "      <td>-0.505533</td>\n",
       "      <td>...</td>\n",
       "      <td>1.0</td>\n",
       "      <td>0.0</td>\n",
       "      <td>0.0</td>\n",
       "      <td>0.0</td>\n",
       "      <td>0.0</td>\n",
       "      <td>0.0</td>\n",
       "      <td>0.0</td>\n",
       "      <td>0.0</td>\n",
       "      <td>1.0</td>\n",
       "      <td>0.0</td>\n",
       "    </tr>\n",
       "    <tr>\n",
       "      <th>16515</th>\n",
       "      <td>-0.683260</td>\n",
       "      <td>-0.428481</td>\n",
       "      <td>-0.226446</td>\n",
       "      <td>0.613781</td>\n",
       "      <td>-0.274025</td>\n",
       "      <td>0.462536</td>\n",
       "      <td>1.342892</td>\n",
       "      <td>1.40280</td>\n",
       "      <td>0.692409</td>\n",
       "      <td>-0.505533</td>\n",
       "      <td>...</td>\n",
       "      <td>0.0</td>\n",
       "      <td>0.0</td>\n",
       "      <td>0.0</td>\n",
       "      <td>0.0</td>\n",
       "      <td>0.0</td>\n",
       "      <td>0.0</td>\n",
       "      <td>0.0</td>\n",
       "      <td>1.0</td>\n",
       "      <td>0.0</td>\n",
       "      <td>0.0</td>\n",
       "    </tr>\n",
       "    <tr>\n",
       "      <th>23353</th>\n",
       "      <td>0.418027</td>\n",
       "      <td>1.194528</td>\n",
       "      <td>-0.226446</td>\n",
       "      <td>0.613781</td>\n",
       "      <td>-0.274025</td>\n",
       "      <td>0.462536</td>\n",
       "      <td>-0.744662</td>\n",
       "      <td>-0.71286</td>\n",
       "      <td>-1.444234</td>\n",
       "      <td>-0.505533</td>\n",
       "      <td>...</td>\n",
       "      <td>0.0</td>\n",
       "      <td>0.0</td>\n",
       "      <td>0.0</td>\n",
       "      <td>0.0</td>\n",
       "      <td>0.0</td>\n",
       "      <td>0.0</td>\n",
       "      <td>0.0</td>\n",
       "      <td>0.0</td>\n",
       "      <td>0.0</td>\n",
       "      <td>1.0</td>\n",
       "    </tr>\n",
       "    <tr>\n",
       "      <th>10008</th>\n",
       "      <td>-0.683260</td>\n",
       "      <td>1.194528</td>\n",
       "      <td>-0.226446</td>\n",
       "      <td>0.613781</td>\n",
       "      <td>-0.274025</td>\n",
       "      <td>0.462536</td>\n",
       "      <td>1.342892</td>\n",
       "      <td>-0.71286</td>\n",
       "      <td>0.692409</td>\n",
       "      <td>-0.505533</td>\n",
       "      <td>...</td>\n",
       "      <td>0.0</td>\n",
       "      <td>0.0</td>\n",
       "      <td>1.0</td>\n",
       "      <td>0.0</td>\n",
       "      <td>0.0</td>\n",
       "      <td>0.0</td>\n",
       "      <td>0.0</td>\n",
       "      <td>0.0</td>\n",
       "      <td>1.0</td>\n",
       "      <td>0.0</td>\n",
       "    </tr>\n",
       "    <tr>\n",
       "      <th>...</th>\n",
       "      <td>...</td>\n",
       "      <td>...</td>\n",
       "      <td>...</td>\n",
       "      <td>...</td>\n",
       "      <td>...</td>\n",
       "      <td>...</td>\n",
       "      <td>...</td>\n",
       "      <td>...</td>\n",
       "      <td>...</td>\n",
       "      <td>...</td>\n",
       "      <td>...</td>\n",
       "      <td>...</td>\n",
       "      <td>...</td>\n",
       "      <td>...</td>\n",
       "      <td>...</td>\n",
       "      <td>...</td>\n",
       "      <td>...</td>\n",
       "      <td>...</td>\n",
       "      <td>...</td>\n",
       "      <td>...</td>\n",
       "      <td>...</td>\n",
       "    </tr>\n",
       "    <tr>\n",
       "      <th>25990</th>\n",
       "      <td>-1.784547</td>\n",
       "      <td>-0.428481</td>\n",
       "      <td>-0.226446</td>\n",
       "      <td>-1.629246</td>\n",
       "      <td>-0.274025</td>\n",
       "      <td>-2.161995</td>\n",
       "      <td>-0.744662</td>\n",
       "      <td>-0.71286</td>\n",
       "      <td>-1.444234</td>\n",
       "      <td>-0.505533</td>\n",
       "      <td>...</td>\n",
       "      <td>0.0</td>\n",
       "      <td>0.0</td>\n",
       "      <td>0.0</td>\n",
       "      <td>0.0</td>\n",
       "      <td>0.0</td>\n",
       "      <td>1.0</td>\n",
       "      <td>0.0</td>\n",
       "      <td>0.0</td>\n",
       "      <td>0.0</td>\n",
       "      <td>1.0</td>\n",
       "    </tr>\n",
       "    <tr>\n",
       "      <th>14302</th>\n",
       "      <td>0.418027</td>\n",
       "      <td>1.194528</td>\n",
       "      <td>-0.226446</td>\n",
       "      <td>0.613781</td>\n",
       "      <td>-0.274025</td>\n",
       "      <td>0.462536</td>\n",
       "      <td>-0.744662</td>\n",
       "      <td>-0.71286</td>\n",
       "      <td>0.692409</td>\n",
       "      <td>-0.505533</td>\n",
       "      <td>...</td>\n",
       "      <td>0.0</td>\n",
       "      <td>0.0</td>\n",
       "      <td>1.0</td>\n",
       "      <td>0.0</td>\n",
       "      <td>0.0</td>\n",
       "      <td>0.0</td>\n",
       "      <td>0.0</td>\n",
       "      <td>0.0</td>\n",
       "      <td>1.0</td>\n",
       "      <td>0.0</td>\n",
       "    </tr>\n",
       "    <tr>\n",
       "      <th>3817</th>\n",
       "      <td>-0.683260</td>\n",
       "      <td>1.194528</td>\n",
       "      <td>-0.226446</td>\n",
       "      <td>0.613781</td>\n",
       "      <td>-0.274025</td>\n",
       "      <td>0.462536</td>\n",
       "      <td>-0.744662</td>\n",
       "      <td>-0.71286</td>\n",
       "      <td>-1.444234</td>\n",
       "      <td>1.978112</td>\n",
       "      <td>...</td>\n",
       "      <td>0.0</td>\n",
       "      <td>0.0</td>\n",
       "      <td>0.0</td>\n",
       "      <td>0.0</td>\n",
       "      <td>0.0</td>\n",
       "      <td>0.0</td>\n",
       "      <td>0.0</td>\n",
       "      <td>0.0</td>\n",
       "      <td>1.0</td>\n",
       "      <td>0.0</td>\n",
       "    </tr>\n",
       "    <tr>\n",
       "      <th>13912</th>\n",
       "      <td>-0.683260</td>\n",
       "      <td>1.194528</td>\n",
       "      <td>-0.226446</td>\n",
       "      <td>-1.629246</td>\n",
       "      <td>-0.274025</td>\n",
       "      <td>0.462536</td>\n",
       "      <td>-0.744662</td>\n",
       "      <td>-0.71286</td>\n",
       "      <td>0.692409</td>\n",
       "      <td>-0.505533</td>\n",
       "      <td>...</td>\n",
       "      <td>0.0</td>\n",
       "      <td>0.0</td>\n",
       "      <td>0.0</td>\n",
       "      <td>0.0</td>\n",
       "      <td>0.0</td>\n",
       "      <td>0.0</td>\n",
       "      <td>0.0</td>\n",
       "      <td>1.0</td>\n",
       "      <td>0.0</td>\n",
       "      <td>0.0</td>\n",
       "    </tr>\n",
       "    <tr>\n",
       "      <th>16392</th>\n",
       "      <td>0.418027</td>\n",
       "      <td>-0.428481</td>\n",
       "      <td>-0.226446</td>\n",
       "      <td>0.613781</td>\n",
       "      <td>-0.274025</td>\n",
       "      <td>0.462536</td>\n",
       "      <td>1.342892</td>\n",
       "      <td>-0.71286</td>\n",
       "      <td>-1.444234</td>\n",
       "      <td>-0.505533</td>\n",
       "      <td>...</td>\n",
       "      <td>0.0</td>\n",
       "      <td>0.0</td>\n",
       "      <td>0.0</td>\n",
       "      <td>0.0</td>\n",
       "      <td>0.0</td>\n",
       "      <td>0.0</td>\n",
       "      <td>1.0</td>\n",
       "      <td>0.0</td>\n",
       "      <td>0.0</td>\n",
       "      <td>1.0</td>\n",
       "    </tr>\n",
       "  </tbody>\n",
       "</table>\n",
       "<p>6677 rows × 66 columns</p>\n",
       "</div>"
      ],
      "text/plain": [
       "               h1n1_concern  h1n1_knowledge  behavioral_antiviral_meds  \\\n",
       "respondent_id                                                            \n",
       "15772              0.418027       -0.428481                  -0.226446   \n",
       "9407               1.519314       -2.051490                  -0.226446   \n",
       "16515             -0.683260       -0.428481                  -0.226446   \n",
       "23353              0.418027        1.194528                  -0.226446   \n",
       "10008             -0.683260        1.194528                  -0.226446   \n",
       "...                     ...             ...                        ...   \n",
       "25990             -1.784547       -0.428481                  -0.226446   \n",
       "14302              0.418027        1.194528                  -0.226446   \n",
       "3817              -0.683260        1.194528                  -0.226446   \n",
       "13912             -0.683260        1.194528                  -0.226446   \n",
       "16392              0.418027       -0.428481                  -0.226446   \n",
       "\n",
       "               behavioral_avoidance  behavioral_face_mask  \\\n",
       "respondent_id                                               \n",
       "15772                      0.613781              3.649297   \n",
       "9407                       0.613781              3.649297   \n",
       "16515                      0.613781             -0.274025   \n",
       "23353                      0.613781             -0.274025   \n",
       "10008                      0.613781             -0.274025   \n",
       "...                             ...                   ...   \n",
       "25990                     -1.629246             -0.274025   \n",
       "14302                      0.613781             -0.274025   \n",
       "3817                       0.613781             -0.274025   \n",
       "13912                     -1.629246             -0.274025   \n",
       "16392                      0.613781             -0.274025   \n",
       "\n",
       "               behavioral_wash_hands  behavioral_large_gatherings  \\\n",
       "respondent_id                                                       \n",
       "15772                       0.462536                     1.342892   \n",
       "9407                        0.462536                     1.342892   \n",
       "16515                       0.462536                     1.342892   \n",
       "23353                       0.462536                    -0.744662   \n",
       "10008                       0.462536                     1.342892   \n",
       "...                              ...                          ...   \n",
       "25990                      -2.161995                    -0.744662   \n",
       "14302                       0.462536                    -0.744662   \n",
       "3817                        0.462536                    -0.744662   \n",
       "13912                       0.462536                    -0.744662   \n",
       "16392                       0.462536                     1.342892   \n",
       "\n",
       "               behavioral_outside_home  behavioral_touch_face  \\\n",
       "respondent_id                                                   \n",
       "15772                          1.40280               0.692409   \n",
       "9407                           1.40280              -1.444234   \n",
       "16515                          1.40280               0.692409   \n",
       "23353                         -0.71286              -1.444234   \n",
       "10008                         -0.71286               0.692409   \n",
       "...                                ...                    ...   \n",
       "25990                         -0.71286              -1.444234   \n",
       "14302                         -0.71286               0.692409   \n",
       "3817                          -0.71286              -1.444234   \n",
       "13912                         -0.71286               0.692409   \n",
       "16392                         -0.71286              -1.444234   \n",
       "\n",
       "               doctor_recc_h1n1  ...  fpwskwrf  kbazzjca  lrircsnp  lzgpxyit  \\\n",
       "respondent_id                    ...                                           \n",
       "15772                 -0.505533  ...       0.0       0.0       0.0       0.0   \n",
       "9407                  -0.505533  ...       1.0       0.0       0.0       0.0   \n",
       "16515                 -0.505533  ...       0.0       0.0       0.0       0.0   \n",
       "23353                 -0.505533  ...       0.0       0.0       0.0       0.0   \n",
       "10008                 -0.505533  ...       0.0       0.0       1.0       0.0   \n",
       "...                         ...  ...       ...       ...       ...       ...   \n",
       "25990                 -0.505533  ...       0.0       0.0       0.0       0.0   \n",
       "14302                 -0.505533  ...       0.0       0.0       1.0       0.0   \n",
       "3817                   1.978112  ...       0.0       0.0       0.0       0.0   \n",
       "13912                 -0.505533  ...       0.0       0.0       0.0       0.0   \n",
       "16392                 -0.505533  ...       0.0       0.0       0.0       0.0   \n",
       "\n",
       "               mlyzmhmf  oxchjgsf  qufhixun  MSA, Not Principle  City  \\\n",
       "respondent_id                                                           \n",
       "15772               0.0       0.0       0.0                       0.0   \n",
       "9407                0.0       0.0       0.0                       0.0   \n",
       "16515               0.0       0.0       0.0                       1.0   \n",
       "23353               0.0       0.0       0.0                       0.0   \n",
       "10008               0.0       0.0       0.0                       0.0   \n",
       "...                 ...       ...       ...                       ...   \n",
       "25990               0.0       1.0       0.0                       0.0   \n",
       "14302               0.0       0.0       0.0                       0.0   \n",
       "3817                0.0       0.0       0.0                       0.0   \n",
       "13912               0.0       0.0       0.0                       1.0   \n",
       "16392               0.0       0.0       1.0                       0.0   \n",
       "\n",
       "               MSA, Principle City  Non-MSA  \n",
       "respondent_id                                \n",
       "15772                          1.0      0.0  \n",
       "9407                           1.0      0.0  \n",
       "16515                          0.0      0.0  \n",
       "23353                          0.0      1.0  \n",
       "10008                          1.0      0.0  \n",
       "...                            ...      ...  \n",
       "25990                          0.0      1.0  \n",
       "14302                          1.0      0.0  \n",
       "3817                           1.0      0.0  \n",
       "13912                          0.0      0.0  \n",
       "16392                          0.0      1.0  \n",
       "\n",
       "[6677 rows x 66 columns]"
      ]
     },
     "execution_count": 99,
     "metadata": {},
     "output_type": "execute_result"
    }
   ],
   "source": [
    "X_test_processed"
   ]
  },
  {
   "cell_type": "code",
   "execution_count": 97,
   "id": "14bd3459",
   "metadata": {},
   "outputs": [
    {
     "data": {
      "text/plain": [
       "respondent_id\n",
       "15772    0\n",
       "9407     0\n",
       "16515    0\n",
       "23353    0\n",
       "10008    0\n",
       "        ..\n",
       "25990    0\n",
       "14302    0\n",
       "3817     1\n",
       "13912    0\n",
       "16392    0\n",
       "Name: h1n1_vaccine, Length: 6677, dtype: int64"
      ]
     },
     "execution_count": 97,
     "metadata": {},
     "output_type": "execute_result"
    }
   ],
   "source": [
    "y_test['h1n1_vaccine']"
   ]
  },
  {
   "cell_type": "code",
   "execution_count": 93,
   "id": "2ddd2a6e",
   "metadata": {},
   "outputs": [],
   "source": [
    "from sklearn.metrics import r2_score, mean_squared_error\n",
    "\n",
    "def performance(y_true, y_predict):\n",
    "    r2 = r2_score(y_true, y_predict)\n",
    "    rmse = mean_squared_error(y_true, y_predict, squared=False)\n",
    "\n",
    "    return [r2, rmse]"
   ]
  },
  {
   "cell_type": "code",
   "execution_count": 95,
   "id": "f9989533",
   "metadata": {},
   "outputs": [
    {
     "data": {
      "text/plain": [
       "[-0.4207869675934002, 0.4873723685953187]"
      ]
     },
     "execution_count": 95,
     "metadata": {},
     "output_type": "execute_result"
    }
   ],
   "source": [
    "score = performance(y_test['h1n1_vaccine'], y_hat_h1n1_tree)\n",
    "score"
   ]
  },
  {
   "cell_type": "code",
   "execution_count": null,
   "id": "555a6c18",
   "metadata": {},
   "outputs": [],
   "source": []
  }
 ],
 "metadata": {
  "kernelspec": {
   "display_name": "Python 3 (ipykernel)",
   "language": "python",
   "name": "python3"
  },
  "language_info": {
   "codemirror_mode": {
    "name": "ipython",
    "version": 3
   },
   "file_extension": ".py",
   "mimetype": "text/x-python",
   "name": "python",
   "nbconvert_exporter": "python",
   "pygments_lexer": "ipython3",
   "version": "3.9.13"
  }
 },
 "nbformat": 4,
 "nbformat_minor": 5
}
