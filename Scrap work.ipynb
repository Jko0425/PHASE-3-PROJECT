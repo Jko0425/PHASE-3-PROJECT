{
 "cells": [
  {
   "cell_type": "code",
   "execution_count": 1,
   "id": "1723ab79",
   "metadata": {},
   "outputs": [],
   "source": [
    "import pandas as pd\n",
    "import numpy as np"
   ]
  },
  {
   "cell_type": "code",
   "execution_count": 2,
   "id": "e19267c4",
   "metadata": {},
   "outputs": [],
   "source": [
    "test_df = pd.read_csv('test_set_features.csv', index_col='respondent_id')\n",
    "training_df = pd.read_csv('training_set_features.csv', index_col='respondent_id')\n",
    "training_labels = pd.read_csv('training_set_labels.csv', index_col='respondent_id')"
   ]
  },
  {
   "cell_type": "code",
   "execution_count": 3,
   "id": "67f26d24",
   "metadata": {},
   "outputs": [
    {
     "data": {
      "text/plain": [
       "h1n1_vaccine                       0\n",
       "seasonal_vaccine                   0\n",
       "h1n1_concern                      92\n",
       "h1n1_knowledge                   116\n",
       "behavioral_antiviral_meds         71\n",
       "behavioral_avoidance             208\n",
       "behavioral_face_mask              19\n",
       "behavioral_wash_hands             42\n",
       "behavioral_large_gatherings       87\n",
       "behavioral_outside_home           82\n",
       "behavioral_touch_face            128\n",
       "doctor_recc_h1n1                2160\n",
       "doctor_recc_seasonal            2160\n",
       "chronic_med_condition            971\n",
       "child_under_6_months             820\n",
       "health_worker                    804\n",
       "health_insurance               12274\n",
       "opinion_h1n1_vacc_effective      391\n",
       "opinion_h1n1_risk                388\n",
       "opinion_h1n1_sick_from_vacc      395\n",
       "opinion_seas_vacc_effective      462\n",
       "opinion_seas_risk                514\n",
       "opinion_seas_sick_from_vacc      537\n",
       "age_group                          0\n",
       "education                       1407\n",
       "race                               0\n",
       "sex                                0\n",
       "income_poverty                  4423\n",
       "marital_status                  1408\n",
       "rent_or_own                     2042\n",
       "employment_status               1463\n",
       "hhs_geo_region                     0\n",
       "census_msa                         0\n",
       "household_adults                 249\n",
       "household_children               249\n",
       "employment_industry            13330\n",
       "employment_occupation          13470\n",
       "dtype: int64"
      ]
     },
     "execution_count": 3,
     "metadata": {},
     "output_type": "execute_result"
    }
   ],
   "source": [
    "df = pd.concat([training_labels, training_df], axis=1)\n",
    "df.isna().sum()"
   ]
  },
  {
   "cell_type": "code",
   "execution_count": 4,
   "id": "7ad40010",
   "metadata": {},
   "outputs": [],
   "source": [
    "numeric_col = training_df.columns[training_df.dtypes != 'object'].values\n",
    "cat_col = training_df.columns[training_df.dtypes == 'object'].values\n",
    "\n",
    "df[cat_col] = df[cat_col].fillna('None')"
   ]
  },
  {
   "cell_type": "code",
   "execution_count": 6,
   "id": "ef605af0",
   "metadata": {},
   "outputs": [
    {
     "data": {
      "text/plain": [
       "13147"
      ]
     },
     "execution_count": 6,
     "metadata": {},
     "output_type": "execute_result"
    }
   ],
   "source": [
    "not_in_labor = df.loc[df['employment_status'].str.contains('Not in Labor Force')]\n",
    "unemployed = df.loc[df['employment_status'].str.contains('Unemployed')]\n",
    "none = df.loc[df['employment_status'].str.contains('None')]\n",
    "\n",
    "no_job = pd.concat([not_in_labor, unemployed, none])\n",
    "len(no_job)"
   ]
  },
  {
   "cell_type": "code",
   "execution_count": 8,
   "id": "d1587101",
   "metadata": {},
   "outputs": [],
   "source": [
    "for i in no_job.index:\n",
    "    df.employment_industry.iloc[i] == df.employment_industry.iloc[i].replace('None', 'Not working')\n",
    "    df.employment_occupation.iloc[i] == df.employment_occupation.iloc[i].replace('None', 'No Job Title')\n",
    "    \n",
    "for i in no_job.loc[no_job['health_worker'].isna()].index:\n",
    "    df.health_worker.iloc[i] == 0"
   ]
  },
  {
   "cell_type": "code",
   "execution_count": 10,
   "id": "04edbc05",
   "metadata": {},
   "outputs": [
    {
     "data": {
      "text/plain": [
       "None        13470\n",
       "xtkaffoo     1778\n",
       "mxkfnird     1509\n",
       "emcorrxb     1270\n",
       "cmhcxjea     1247\n",
       "xgwztkwe     1082\n",
       "hfxkjkmi      766\n",
       "qxajmpny      548\n",
       "xqwwgdyp      485\n",
       "kldqjyjy      469\n",
       "uqqtjvyb      452\n",
       "tfqavkke      388\n",
       "ukymxvdu      372\n",
       "vlluhbov      354\n",
       "oijqvulv      344\n",
       "ccgxvspp      341\n",
       "bxpfxfdn      331\n",
       "haliazsg      296\n",
       "rcertsgn      276\n",
       "xzmlyyjv      248\n",
       "dlvbwzss      227\n",
       "hodpvpew      208\n",
       "dcjcmpih      148\n",
       "pvmttkik       98\n",
       "Name: employment_occupation, dtype: int64"
      ]
     },
     "execution_count": 10,
     "metadata": {},
     "output_type": "execute_result"
    }
   ],
   "source": [
    "X = df.drop(['h1n1_vaccine', 'seasonal_vaccine'], axis=1)\n",
    "y_h1n1 = training_labels['h1n1_vaccine']\n",
    "y_seasonal = training_labels['seasonal_vaccine']"
   ]
  },
  {
   "cell_type": "code",
   "execution_count": 76,
   "id": "34359006",
   "metadata": {},
   "outputs": [],
   "source": [
    "from sklearn.impute import SimpleImputer\n",
    "\n",
    "imputer = SimpleImputer(strategy='median')\n",
    "\n",
    "X_train_h1n1_num = X_train_h1n1[num_col(h1n1_df)]\n",
    "X_test_h1n1_num = X_test_h1n1[num_col(h1n1_df)]\n",
    "\n",
    "imputer.fit(X_train_h1n1_num)\n",
    "\n",
    "X_train_filled_h1n1_num = pd.DataFrame(imputer.transform(X_train_h1n1_num),\n",
    "                                       index=X_train_h1n1_num.index,\n",
    "                                       columns=X_train_h1n1_num.columns)\n",
    "X_test_filled_h1n1_num = pd.DataFrame(imputer.transform(X_test_h1n1_num),\n",
    "                                      index=X_test_h1n1_num.index,\n",
    "                                      columns=X_test_h1n1_num.columns)"
   ]
  },
  {
   "cell_type": "code",
   "execution_count": 77,
   "id": "b7b48e76",
   "metadata": {},
   "outputs": [],
   "source": [
    "from sklearn.preprocessing import StandardScaler\n",
    "\n",
    "std = StandardScaler()\n",
    "std.fit(X_train_filled_h1n1_num)\n",
    "\n",
    "X_train_scaled_h1n1_num = pd.DataFrame(std.transform(X_train_filled_h1n1_num),\n",
    "                                       index=X_train_filled_h1n1_num.index,\n",
    "                                       columns=X_train_filled_h1n1_num.columns)\n",
    "X_test_scaled_h1n1_num = pd.DataFrame(std.transform(X_test_filled_h1n1_num),\n",
    "                                      index=X_test_filled_h1n1_num.index,\n",
    "                                      columns=X_test_filled_h1n1_num.columns)"
   ]
  },
  {
   "cell_type": "code",
   "execution_count": 79,
   "id": "7cd640a0",
   "metadata": {},
   "outputs": [],
   "source": [
    "from sklearn.preprocessing import OneHotEncoder\n",
    "\n",
    "ohe = OneHotEncoder(handle_unknown='ignore', sparse=False)\n",
    "\n",
    "X_train_h1n1_cat = X_train_h1n1[cat_col(h1n1_df)]\n",
    "X_test_h1n1_cat = X_test_h1n1[cat_col(h1n1_df)]\n",
    "ohe.fit(X_train_h1n1_cat)\n",
    "X_train_h1n1_ohe = pd.DataFrame(ohe.transform(X_train_h1n1_cat),\n",
    "                                index=X_train_h1n1_cat.index,\n",
    "                                columns=np.hstack(ohe.categories_))\n",
    "X_test_h1n1_ohe = pd.DataFrame(ohe.transform(X_test_h1n1_cat),\n",
    "                                index=X_test_h1n1_cat.index,\n",
    "                                columns=np.hstack(ohe.categories_))"
   ]
  },
  {
   "cell_type": "code",
   "execution_count": 81,
   "id": "c155d309",
   "metadata": {
    "scrolled": true
   },
   "outputs": [],
   "source": [
    "X_train_h1n1_processed = pd.concat([X_train_scaled_h1n1_num, X_train_h1n1_ohe], axis=1)\n",
    "X_test_h1n1_processed = pd.concat([X_test_scaled_h1n1_num, X_test_h1n1_ohe], axis=1)"
   ]
  },
  {
   "cell_type": "code",
   "execution_count": 83,
   "id": "259da09b",
   "metadata": {},
   "outputs": [],
   "source": [
    "X_train_seasonal, X_test_seasonal, y_train_seasonal, y_test_seasonal = train_test_split(seasonal_df, y_seasonal, test_size=0.25, random_state=42)"
   ]
  },
  {
   "cell_type": "code",
   "execution_count": 84,
   "id": "0af929a9",
   "metadata": {},
   "outputs": [],
   "source": [
    "X_train_seasonal_num = X_train_seasonal[num_col(seasonal_df)]\n",
    "X_test_seasonal_num = X_test_seasonal[num_col(seasonal_df)]\n",
    "\n",
    "imputer.fit(X_train_seasonal_num)\n",
    "\n",
    "X_train_filled_seasonal_num = pd.DataFrame(imputer.transform(X_train_seasonal_num),\n",
    "                                       index=X_train_seasonal_num.index,\n",
    "                                       columns=X_train_seasonal_num.columns)\n",
    "X_test_filled_seasonal_num = pd.DataFrame(imputer.transform(X_test_seasonal_num),\n",
    "                                      index=X_test_seasonal_num.index,\n",
    "                                      columns=X_test_seasonal_num.columns)"
   ]
  },
  {
   "cell_type": "code",
   "execution_count": 85,
   "id": "12e004f3",
   "metadata": {},
   "outputs": [],
   "source": [
    "std.fit(X_train_filled_seasonal_num)\n",
    "\n",
    "X_train_scaled_seasonal_num = pd.DataFrame(std.transform(X_train_filled_seasonal_num),\n",
    "                                       index=X_train_filled_seasonal_num.index,\n",
    "                                       columns=X_train_filled_seasonal_num.columns)\n",
    "X_test_scaled_seasonal_num = pd.DataFrame(std.transform(X_test_filled_seasonal_num),\n",
    "                                      index=X_test_filled_seasonal_num.index,\n",
    "                                      columns=X_test_filled_seasonal_num.columns)"
   ]
  },
  {
   "cell_type": "code",
   "execution_count": 86,
   "id": "7f30c93e",
   "metadata": {},
   "outputs": [],
   "source": [
    "X_train_seasonal_cat = X_train_seasonal[cat_col(seasonal_df)]\n",
    "X_test_seasonal_cat = X_test_seasonal[cat_col(seasonal_df)]\n",
    "\n",
    "ohe.fit(X_train_seasonal_cat)\n",
    "X_train_seasonal_ohe = pd.DataFrame(ohe.transform(X_train_seasonal_cat),\n",
    "                                index=X_train_seasonal_cat.index,\n",
    "                                columns=np.hstack(ohe.categories_))\n",
    "X_test_seasonal_ohe = pd.DataFrame(ohe.transform(X_test_seasonal_cat),\n",
    "                                index=X_test_seasonal_cat.index,\n",
    "                                columns=np.hstack(ohe.categories_))"
   ]
  },
  {
   "cell_type": "code",
   "execution_count": 87,
   "id": "5e276d25",
   "metadata": {},
   "outputs": [],
   "source": [
    "X_train_seasonal_processed = pd.concat([X_train_scaled_seasonal_num, X_train_seasonal_ohe], axis=1)\n",
    "X_test_seasonal_processed = pd.concat([X_test_scaled_seasonal_num, X_test_seasonal_ohe], axis=1)"
   ]
  },
  {
   "cell_type": "code",
   "execution_count": 91,
   "id": "f3a074d1",
   "metadata": {},
   "outputs": [
    {
     "name": "stderr",
     "output_type": "stream",
     "text": [
      "C:\\Users\\joshu\\anaconda3\\lib\\site-packages\\sklearn\\utils\\validation.py:1688: FutureWarning: Feature names only support names that are all strings. Got feature names with dtypes: ['float', 'str']. An error will be raised in 1.2.\n",
      "  warnings.warn(\n",
      "C:\\Users\\joshu\\anaconda3\\lib\\site-packages\\sklearn\\linear_model\\_logistic.py:814: ConvergenceWarning: lbfgs failed to converge (status=1):\n",
      "STOP: TOTAL NO. of ITERATIONS REACHED LIMIT.\n",
      "\n",
      "Increase the number of iterations (max_iter) or scale the data as shown in:\n",
      "    https://scikit-learn.org/stable/modules/preprocessing.html\n",
      "Please also refer to the documentation for alternative solver options:\n",
      "    https://scikit-learn.org/stable/modules/linear_model.html#logistic-regression\n",
      "  n_iter_i = _check_optimize_result(\n",
      "C:\\Users\\joshu\\anaconda3\\lib\\site-packages\\sklearn\\utils\\validation.py:1688: FutureWarning: Feature names only support names that are all strings. Got feature names with dtypes: ['float', 'str']. An error will be raised in 1.2.\n",
      "  warnings.warn(\n",
      "C:\\Users\\joshu\\anaconda3\\lib\\site-packages\\sklearn\\utils\\validation.py:1688: FutureWarning: Feature names only support names that are all strings. Got feature names with dtypes: ['float', 'str']. An error will be raised in 1.2.\n",
      "  warnings.warn(\n",
      "C:\\Users\\joshu\\anaconda3\\lib\\site-packages\\sklearn\\linear_model\\_logistic.py:814: ConvergenceWarning: lbfgs failed to converge (status=1):\n",
      "STOP: TOTAL NO. of ITERATIONS REACHED LIMIT.\n",
      "\n",
      "Increase the number of iterations (max_iter) or scale the data as shown in:\n",
      "    https://scikit-learn.org/stable/modules/preprocessing.html\n",
      "Please also refer to the documentation for alternative solver options:\n",
      "    https://scikit-learn.org/stable/modules/linear_model.html#logistic-regression\n",
      "  n_iter_i = _check_optimize_result(\n",
      "C:\\Users\\joshu\\anaconda3\\lib\\site-packages\\sklearn\\utils\\validation.py:1688: FutureWarning: Feature names only support names that are all strings. Got feature names with dtypes: ['float', 'str']. An error will be raised in 1.2.\n",
      "  warnings.warn(\n",
      "C:\\Users\\joshu\\anaconda3\\lib\\site-packages\\sklearn\\utils\\validation.py:1688: FutureWarning: Feature names only support names that are all strings. Got feature names with dtypes: ['float', 'str']. An error will be raised in 1.2.\n",
      "  warnings.warn(\n",
      "C:\\Users\\joshu\\anaconda3\\lib\\site-packages\\sklearn\\linear_model\\_logistic.py:814: ConvergenceWarning: lbfgs failed to converge (status=1):\n",
      "STOP: TOTAL NO. of ITERATIONS REACHED LIMIT.\n",
      "\n",
      "Increase the number of iterations (max_iter) or scale the data as shown in:\n",
      "    https://scikit-learn.org/stable/modules/preprocessing.html\n",
      "Please also refer to the documentation for alternative solver options:\n",
      "    https://scikit-learn.org/stable/modules/linear_model.html#logistic-regression\n",
      "  n_iter_i = _check_optimize_result(\n",
      "C:\\Users\\joshu\\anaconda3\\lib\\site-packages\\sklearn\\utils\\validation.py:1688: FutureWarning: Feature names only support names that are all strings. Got feature names with dtypes: ['float', 'str']. An error will be raised in 1.2.\n",
      "  warnings.warn(\n",
      "C:\\Users\\joshu\\anaconda3\\lib\\site-packages\\sklearn\\utils\\validation.py:1688: FutureWarning: Feature names only support names that are all strings. Got feature names with dtypes: ['float', 'str']. An error will be raised in 1.2.\n",
      "  warnings.warn(\n",
      "C:\\Users\\joshu\\anaconda3\\lib\\site-packages\\sklearn\\utils\\validation.py:1688: FutureWarning: Feature names only support names that are all strings. Got feature names with dtypes: ['float', 'str']. An error will be raised in 1.2.\n",
      "  warnings.warn(\n",
      "C:\\Users\\joshu\\anaconda3\\lib\\site-packages\\sklearn\\utils\\validation.py:1688: FutureWarning: Feature names only support names that are all strings. Got feature names with dtypes: ['float', 'str']. An error will be raised in 1.2.\n",
      "  warnings.warn(\n",
      "C:\\Users\\joshu\\anaconda3\\lib\\site-packages\\sklearn\\linear_model\\_logistic.py:814: ConvergenceWarning: lbfgs failed to converge (status=1):\n",
      "STOP: TOTAL NO. of ITERATIONS REACHED LIMIT.\n",
      "\n",
      "Increase the number of iterations (max_iter) or scale the data as shown in:\n",
      "    https://scikit-learn.org/stable/modules/preprocessing.html\n",
      "Please also refer to the documentation for alternative solver options:\n",
      "    https://scikit-learn.org/stable/modules/linear_model.html#logistic-regression\n",
      "  n_iter_i = _check_optimize_result(\n",
      "C:\\Users\\joshu\\anaconda3\\lib\\site-packages\\sklearn\\utils\\validation.py:1688: FutureWarning: Feature names only support names that are all strings. Got feature names with dtypes: ['float', 'str']. An error will be raised in 1.2.\n",
      "  warnings.warn(\n"
     ]
    },
    {
     "data": {
      "text/plain": [
       "0.3866392792171969"
      ]
     },
     "execution_count": 91,
     "metadata": {},
     "output_type": "execute_result"
    }
   ],
   "source": [
    "from sklearn.linear_model import LogisticRegression\n",
    "from sklearn.model_selection import cross_val_score\n",
    "\n",
    "log_model = LogisticRegression(random_state=42, max_iter=200)\n",
    "log_loss_cv = cross_val_score(log_model, X_train_h1n1_processed, y_train_h1n1, scoring='neg_log_loss')\n",
    "\n",
    "log_loss_h1n1 = -(log_loss_cv.mean())\n",
    "log_loss_h1n1"
   ]
  },
  {
   "cell_type": "code",
   "execution_count": 92,
   "id": "b22c9f7b",
   "metadata": {},
   "outputs": [
    {
     "name": "stderr",
     "output_type": "stream",
     "text": [
      "C:\\Users\\joshu\\anaconda3\\lib\\site-packages\\sklearn\\utils\\validation.py:1688: FutureWarning: Feature names only support names that are all strings. Got feature names with dtypes: ['float', 'str']. An error will be raised in 1.2.\n",
      "  warnings.warn(\n",
      "C:\\Users\\joshu\\anaconda3\\lib\\site-packages\\sklearn\\utils\\validation.py:1688: FutureWarning: Feature names only support names that are all strings. Got feature names with dtypes: ['float', 'str']. An error will be raised in 1.2.\n",
      "  warnings.warn(\n",
      "C:\\Users\\joshu\\anaconda3\\lib\\site-packages\\sklearn\\utils\\validation.py:1688: FutureWarning: Feature names only support names that are all strings. Got feature names with dtypes: ['float', 'str']. An error will be raised in 1.2.\n",
      "  warnings.warn(\n",
      "C:\\Users\\joshu\\anaconda3\\lib\\site-packages\\sklearn\\utils\\validation.py:1688: FutureWarning: Feature names only support names that are all strings. Got feature names with dtypes: ['float', 'str']. An error will be raised in 1.2.\n",
      "  warnings.warn(\n",
      "C:\\Users\\joshu\\anaconda3\\lib\\site-packages\\sklearn\\utils\\validation.py:1688: FutureWarning: Feature names only support names that are all strings. Got feature names with dtypes: ['float', 'str']. An error will be raised in 1.2.\n",
      "  warnings.warn(\n",
      "C:\\Users\\joshu\\anaconda3\\lib\\site-packages\\sklearn\\utils\\validation.py:1688: FutureWarning: Feature names only support names that are all strings. Got feature names with dtypes: ['float', 'str']. An error will be raised in 1.2.\n",
      "  warnings.warn(\n",
      "C:\\Users\\joshu\\anaconda3\\lib\\site-packages\\sklearn\\utils\\validation.py:1688: FutureWarning: Feature names only support names that are all strings. Got feature names with dtypes: ['float', 'str']. An error will be raised in 1.2.\n",
      "  warnings.warn(\n",
      "C:\\Users\\joshu\\anaconda3\\lib\\site-packages\\sklearn\\utils\\validation.py:1688: FutureWarning: Feature names only support names that are all strings. Got feature names with dtypes: ['float', 'str']. An error will be raised in 1.2.\n",
      "  warnings.warn(\n",
      "C:\\Users\\joshu\\anaconda3\\lib\\site-packages\\sklearn\\utils\\validation.py:1688: FutureWarning: Feature names only support names that are all strings. Got feature names with dtypes: ['float', 'str']. An error will be raised in 1.2.\n",
      "  warnings.warn(\n",
      "C:\\Users\\joshu\\anaconda3\\lib\\site-packages\\sklearn\\utils\\validation.py:1688: FutureWarning: Feature names only support names that are all strings. Got feature names with dtypes: ['float', 'str']. An error will be raised in 1.2.\n",
      "  warnings.warn(\n"
     ]
    },
    {
     "data": {
      "text/plain": [
       "0.4868397228883469"
      ]
     },
     "execution_count": 92,
     "metadata": {},
     "output_type": "execute_result"
    }
   ],
   "source": [
    "log_loss_cv = cross_val_score(log_model, X_train_seasonal_processed, y_train_seasonal, scoring='neg_log_loss')\n",
    "\n",
    "log_loss_seasonal = -(log_loss_cv.mean())\n",
    "log_loss_seasonal"
   ]
  },
  {
   "cell_type": "code",
   "execution_count": null,
   "id": "cf2cbbe7",
   "metadata": {},
   "outputs": [],
   "source": []
  }
 ],
 "metadata": {
  "kernelspec": {
   "display_name": "Python 3 (ipykernel)",
   "language": "python",
   "name": "python3"
  },
  "language_info": {
   "codemirror_mode": {
    "name": "ipython",
    "version": 3
   },
   "file_extension": ".py",
   "mimetype": "text/x-python",
   "name": "python",
   "nbconvert_exporter": "python",
   "pygments_lexer": "ipython3",
   "version": "3.9.13"
  }
 },
 "nbformat": 4,
 "nbformat_minor": 5
}
